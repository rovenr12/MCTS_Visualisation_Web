{
 "cells": [
  {
   "cell_type": "markdown",
   "id": "e1bea3be",
   "metadata": {
    "toc": true
   },
   "source": [
    "<h1>Table of Contents<span class=\"tocSkip\"></span></h1>\n",
    "<div class=\"toc\"><ul class=\"toc-item\"><li><span><a href=\"#Starting-State\" data-toc-modified-id=\"Starting-State-1\"><span class=\"toc-item-num\">1&nbsp;&nbsp;</span>Starting State</a></span></li><li><span><a href=\"#Middle-State-(1)\" data-toc-modified-id=\"Middle-State-(1)-2\"><span class=\"toc-item-num\">2&nbsp;&nbsp;</span>Middle State (1)</a></span></li><li><span><a href=\"#Middle-State-(2)\" data-toc-modified-id=\"Middle-State-(2)-3\"><span class=\"toc-item-num\">3&nbsp;&nbsp;</span>Middle State (2)</a></span></li><li><span><a href=\"#Final-State\" data-toc-modified-id=\"Final-State-4\"><span class=\"toc-item-num\">4&nbsp;&nbsp;</span>Final State</a></span></li><li><span><a href=\"#Other-tests\" data-toc-modified-id=\"Other-tests-5\"><span class=\"toc-item-num\">5&nbsp;&nbsp;</span>Other tests</a></span></li></ul></div>"
   ]
  },
  {
   "cell_type": "code",
   "execution_count": 1,
   "id": "aed44839",
   "metadata": {
    "ExecuteTime": {
     "end_time": "2023-02-23T12:59:13.379729Z",
     "start_time": "2023-02-23T12:59:13.071827Z"
    }
   },
   "outputs": [],
   "source": [
    "import numpy as np\n",
    "import pandas as pd\n",
    "import json\n",
    "\n",
    "\n",
    "# 10 (start game, no meaningful difference between most of actions), 36, 44, 52(terminal state)"
   ]
  },
  {
   "cell_type": "code",
   "execution_count": 2,
   "id": "d591f470",
   "metadata": {
    "ExecuteTime": {
     "end_time": "2023-02-23T12:59:13.395403Z",
     "start_time": "2023-02-23T12:59:13.380726Z"
    }
   },
   "outputs": [],
   "source": [
    "class State:\n",
    "    def __init__(self, features_dict):\n",
    "        self.features_dict = features_dict\n",
    "        \n",
    "    def distance(self, state):\n",
    "        distance = 0\n",
    "        for key, feature in self.feautres_dict.items():\n",
    "            distance += (state.features_dict[key] - feature) ** 2\n",
    "            \n",
    "        return math.sqrt(distance)\n",
    "    \n",
    "    def feature_difference(self, state):\n",
    "        difference_dict = {}\n",
    "        for key, feature in self.features_dict.items():\n",
    "            difference_dict[key] = feature - state.features_dict[key]\n",
    "            \n",
    "        return difference_dict\n",
    "    \n",
    "    def percentage_difference(self, state):\n",
    "        percentage_dict = {}\n",
    "        for key, feature in self.features_dict.items():\n",
    "            difference = feature - state.features_dict[key]\n",
    "            if abs(state.features_dict[key]) < 0.0001:\n",
    "                percentage_dict[key] = 'infinite'\n",
    "            else:\n",
    "                percentage_dict[key] = 100 * (difference) / abs(state.features_dict[key])\n",
    "        return percentage_dict\n",
    "        \n",
    "    def __eq__(self, other):\n",
    "        if isinstance(other, self.__class__):\n",
    "            return self.features_dict == other.features_dict\n",
    "        else:\n",
    "            return False"
   ]
  },
  {
   "cell_type": "code",
   "execution_count": 3,
   "id": "46858cca",
   "metadata": {
    "ExecuteTime": {
     "end_time": "2023-02-23T12:59:13.410364Z",
     "start_time": "2023-02-23T12:59:13.397398Z"
    }
   },
   "outputs": [],
   "source": [
    "def get_action_path(df, node_name=None, action_name=None, is_max=True, state_col='Game_Features'):\n",
    "    # (Name, Action_Name,  State)\n",
    "    action_sequences = []\n",
    "    root_node = df[df['Parent_Name'] == 'None'].iloc[0]\n",
    "    action_sequences.append((root_node.Name, root_node.Action_Name, State(json.loads(root_node[state_col]))))\n",
    "    if node_name:\n",
    "        filter_df = df[(df['Parent_Name'] == root_node.Name) & (df['Name'] == node_name)]\n",
    "    elif action_name:\n",
    "        filter_df = df[(df['Parent_Name'] == root_node.Name) & (df['Action_Name'] == action_name)]\n",
    "    else:\n",
    "        filter_df = df[df['Parent_Name'] == root_node.Name]\n",
    "    \n",
    "    while filter_df.size:\n",
    "        if is_max:\n",
    "            current_row = filter_df.iloc[filter_df.Value.argmax()]\n",
    "        else:\n",
    "            current_row = filter_df.iloc[filter_df.Value.argmin()]\n",
    "        action_sequences.append((current_row.Name, current_row.Action_Name, State(json.loads(current_row[state_col]))))\n",
    "        filter_df = df[df['Parent_Name'] == current_row.Name]\n",
    "    \n",
    "    return action_sequences"
   ]
  },
  {
   "cell_type": "code",
   "execution_count": 4,
   "id": "2cce8fa5",
   "metadata": {
    "ExecuteTime": {
     "end_time": "2023-02-23T12:59:13.426321Z",
     "start_time": "2023-02-23T12:59:13.411361Z"
    }
   },
   "outputs": [],
   "source": [
    "def get_path_feature_difference(path, rel_tol=0.0001):\n",
    "    feature_difference = path[-1][-1].feature_difference(path[0][-1])\n",
    "    percentage_difference = path[-1][-1].percentage_difference(path[0][-1])\n",
    "    feature_differences = {}\n",
    "    percentage_differences = {}\n",
    "    \n",
    "    for name, difference in feature_difference.items():\n",
    "        if abs(difference) > 0.0001:\n",
    "            feature_differences[name] = difference\n",
    "            percentage_differences[name] = percentage_difference[name]\n",
    "            \n",
    "        \n",
    "    return feature_differences, percentage_differences"
   ]
  },
  {
   "cell_type": "code",
   "execution_count": 5,
   "id": "ecb217c1",
   "metadata": {
    "ExecuteTime": {
     "end_time": "2023-02-23T12:59:13.441281Z",
     "start_time": "2023-02-23T12:59:13.427318Z"
    }
   },
   "outputs": [],
   "source": [
    "def generate_explanation_list(features_differences, percentage_differences, \n",
    "                         features=None, percentage_differences_B=None):\n",
    "    if features == None:\n",
    "        features = features_differences.keys()\n",
    "    \n",
    "    feature_explanation = []\n",
    "    addition = \"\" \n",
    "    \n",
    "    for feature in features:\n",
    "        feature_difference = features_differences[feature]\n",
    "        percentage_difference = percentage_differences[feature]\n",
    "        if percentage_difference == 'infinite' or not percentage_differences_B:\n",
    "            percentage_difference = percentage_difference\n",
    "        else:\n",
    "            percentage_difference = (percentage_difference + percentage_differences_B[feature]) / 2\n",
    "            addition = 'around '\n",
    "        \n",
    "        if feature_difference > 0:\n",
    "            if percentage_difference != 'infinite':\n",
    "                feature_explanation.append(f\"{feature} increase by {addition}{abs(percentage_difference):.1f}%\")\n",
    "            else:\n",
    "                feature_explanation.append(f\"{feature} increase\")\n",
    "        else:\n",
    "            if percentage_difference != 'infinite':\n",
    "                feature_explanation.append(f\"{feature} decrease by {addition}{abs(percentage_difference):.1f}%\")\n",
    "            else:\n",
    "                feature_explanation.append(f\"{feature} decrease\")  \n",
    "                \n",
    "    return feature_explanation\n",
    "\n",
    "def explanation_by_paths(df):\n",
    "    # Get the root node name and action space\n",
    "    root_node_name = df[df['Parent_Name'] == 'None'].iloc[0].Name\n",
    "    action_space = df[df.Parent_Name == root_node_name].shape[0]\n",
    "    print(f\"There are {action_space} actions available for this state.\")\n",
    "    \n",
    "    # Check the value of all possible action, if the value is the same, it is just a random decision\n",
    "    if len(df[df.Parent_Name == root_node_name].Value.unique()) == 1:\n",
    "        print(\"The value of every action is the same.\")\n",
    "    \n",
    "    # Get Best action name\n",
    "    best_action_name = df[df['Parent_Name'] == 'None'].Best_Action.values[0]\n",
    "    \n",
    "    # Get the path that will result in the highest reward and state difference between root node and last node\n",
    "    best_action_paths = get_action_path(df, action_name=best_action_name)\n",
    "    ba_feature_differences, ba_percentage_differences = get_path_feature_difference(best_action_paths)\n",
    "    \n",
    "    # Get the number of executed actions in the path\n",
    "    actions_number = len(best_action_paths) - 1\n",
    "    print(f\"The explaination is based on the result of executing {actions_number} action(s) by the agent.\")\n",
    "    \n",
    "    # Get the path that will result in the lowest reward and state difference between root node and last node\n",
    "    worse_action_paths = get_action_path(df, action_name=best_action_name, is_max=False)\n",
    "    worse_action_paths = worse_action_paths[:len(best_action_paths)]\n",
    "    wa_feature_differences, wa_percentage_differences  = get_path_feature_difference(worse_action_paths)\n",
    "    \n",
    "    # Generate the explanation\n",
    "    # Situation 1: No difference between the best value path and the worst value path\n",
    "    if ba_feature_differences == wa_feature_differences:\n",
    "        feature_explanation = generate_explanation_list(ba_feature_differences, ba_percentage_differences)\n",
    "        print(f\"After executing {best_action_name}, I expected {', '.join(feature_explanation[:-1])} and {feature_explanation[-1]} in the future state.\")\n",
    "        return\n",
    "    \n",
    "    # Situation 2: Difference between the best value path and the worst value path\n",
    "    # Classify the feautres\n",
    "    common_features = set()\n",
    "    for feature in ba_feature_differences.keys() & wa_feature_differences.keys():\n",
    "        ba_differences = ba_feature_differences[feature]\n",
    "        wa_differences = wa_feature_differences[feature]\n",
    "        if ba_differences == 'infinite' or wa_differences == 'infinite':\n",
    "            if ba_differences == wa_differences:\n",
    "                common_features.add(feature)\n",
    "        elif (ba_differences > 0 and wa_differences > 0) or (ba_differences < 0 and wa_differences < 0):\n",
    "            common_features.add(feature)\n",
    "    ba_exlcude_features = ba_feature_differences.keys() - common_features\n",
    "    wa_exlcude_features = wa_feature_differences.keys() - common_features\n",
    "    \n",
    "    feature_explanation = generate_explanation_list(ba_feature_differences, ba_percentage_differences, common_features, wa_percentage_differences)\n",
    "    best_feature_explanation = generate_explanation_list(ba_feature_differences, ba_percentage_differences, ba_exlcude_features)\n",
    "    worse_feature_explanation = generate_explanation_list(wa_feature_differences, wa_percentage_differences, wa_exlcude_features)\n",
    "                   \n",
    "    # Combine explanations based on different situations\n",
    "    union_sentence = f\"{', '.join(feature_explanation[:-1])} and {feature_explanation[-1]}\" if len(feature_explanation) > 1 else feature_explanation[0]\n",
    "    print(f\"After executing {best_action_name}, I expect {union_sentence} in the future state.\", end=\" \")\n",
    "\n",
    "    if len(best_feature_explanation):\n",
    "        best_sentence = f\"{', '.join(best_feature_explanation[:-1])} and {best_feature_explanation[-1]}\" if len(best_feature_explanation) > 1 else best_feature_explanation[0]\n",
    "        print(f\"In the best situation, I also expect {best_sentence}.\", end=\" \")\n",
    "\n",
    "    if len(worse_feature_explanation):\n",
    "        worst_sentence = f\"{', '.join(worse_feature_explanation[:-1])} and {worse_feature_explanation[-1]}\" if len(worse_feature_explanation) > 1 else worse_feature_explanation[0]\n",
    "        print(f\"However, I may expect {worst_sentence} in the worst situation.\")"
   ]
  },
  {
   "cell_type": "code",
   "execution_count": 6,
   "id": "3030ef5a",
   "metadata": {
    "ExecuteTime": {
     "end_time": "2023-02-23T12:59:13.456241Z",
     "start_time": "2023-02-23T12:59:13.442278Z"
    }
   },
   "outputs": [],
   "source": [
    "def counterfactual_explanation_by_paths(df, action_name=None):\n",
    "    # Get the root node name and action space\n",
    "    root_node_name = df[df['Parent_Name'] == 'None'].iloc[0].Name\n",
    "    \n",
    "    # Get children list\n",
    "    children_df = df[df['Parent_Name'] == root_node_name]\n",
    "    children_list = children_df.Action_Name.values\n",
    "    if len(children_list) == 1:\n",
    "        print(\"There is only one action left for this state. Unable to generate counterfactual explanation.\")\n",
    "        return\n",
    "    \n",
    "    print(f\"There are {len(children_list)} actions available for this state.\")\n",
    "    \n",
    "    # Check the value of all possible action, if the value is the same, it is just a random decision\n",
    "    if len(df[df.Parent_Name == root_node_name].Value.unique()) == 1:\n",
    "        print(\"The value of every action is the same.\")\n",
    "    \n",
    "    # Get Best action name\n",
    "    best_action_name = df[df['Parent_Name'] == 'None'].Best_Action.values[0]\n",
    "        \n",
    "    # Get second action name\n",
    "    if action_name:\n",
    "        # If action_name is provided and it does not meet the requirement, print message and return\n",
    "        if action_name not in children_list or action_name == best_action_name:\n",
    "            if action_name not in children_list:\n",
    "                print(f\"The selected action {action_name} is not available for this state.\")\n",
    "            if action_name == best_action_name:\n",
    "                print(f\"The selected action {action_name} is not available for this state.\")\n",
    "            return\n",
    "    else:  \n",
    "        # Get the second highest action name if action_name is not provided\n",
    "        if not action_name:\n",
    "            orders = children_df.Value.argsort().values[::-1]\n",
    "            action_name = children_df.iloc[orders[1]].Action_Name\n",
    "            # Exception case (all value is the same and current selection is the best action)\n",
    "            if action_name == best_action_name:\n",
    "                action_name = children_df.iloc[orders[1]].Action_Name\n",
    "                \n",
    "    print(f\"Counterfactual explanation based on {best_action_name} and {action_name}\")\n",
    "    \n",
    "    # Get the best value path of best action\n",
    "    best_action_paths = get_action_path(df, action_name=best_action_name)\n",
    "     \n",
    "    # Get the best value path of selected action (or second heighest value action)\n",
    "    comparision_action_paths = get_action_path(df, action_name=action_name)\n",
    "    \n",
    "    # Get path length and shorten the path\n",
    "    path_len = min(len(best_action_paths), len(comparision_action_paths))\n",
    "    best_action_paths = best_action_paths[:path_len]\n",
    "    comparision_action_paths = comparision_action_paths[:path_len]\n",
    "    \n",
    "    ba_feature_differences, ba_percentage_differences = get_path_feature_difference(best_action_paths)\n",
    "    ca_feature_differences, ca_percentage_differences  = get_path_feature_difference(comparision_action_paths)\n",
    "    \n",
    "    # Get the number of executed actions in the path\n",
    "    print(f\"The explaination is based on the result of executing {path_len - 1} action(s) by the agent.\")\n",
    "    \n",
    "    # Generate the explanation\n",
    "    # Situation 1: No difference between two paths\n",
    "    if ba_feature_differences == ca_feature_differences:\n",
    "        feature_explanation = generate_explanation_list(ba_feature_differences, ba_percentage_differences)\n",
    "        print(f\"After executing {best_action_name} or {action_name}, I expected {', '.join(feature_explanation[:-1])} and {feature_explanation[-1]} in the future state.\")\n",
    "        return\n",
    "    \n",
    "    # Situation 2: Difference between two paths\n",
    "    # Classify the feautres\n",
    "    common_features = set()\n",
    "    for feature in (ba_feature_differences.keys() & ca_feature_differences.keys()):\n",
    "        ba_differences = ba_feature_differences[feature]\n",
    "        ca_differences = ca_feature_differences[feature]\n",
    "        if ba_differences == 'infinite' or ca_differences == 'infinite':\n",
    "            if ba_differences == ca_differences:\n",
    "                common_features.add(feature)\n",
    "        elif (ba_differences > 0 and ca_differences > 0) or (ba_differences < 0 and ca_differences < 0):\n",
    "            common_features.add(feature)\n",
    "    ba_exlcude_features = ba_feature_differences.keys() - common_features\n",
    "    ca_exlcude_features = ca_feature_differences.keys() - common_features\n",
    "    \n",
    "    if len(common_features):\n",
    "        feature_explanation = generate_explanation_list(ba_feature_differences, ba_percentage_differences, common_features, ca_percentage_differences)\n",
    "        union_sentence = f\"{', '.join(feature_explanation[:-1])} and {feature_explanation[-1]}\" if len(feature_explanation) > 1 else feature_explanation[0]\n",
    "        print(f\"After executing {best_action_name} or {action_name}, I expect {union_sentence} in the future state.\", end=\" \")\n",
    "    \n",
    "    if len(ba_exlcude_features):\n",
    "        best_feature_explanation = generate_explanation_list(ba_feature_differences, ba_percentage_differences, ba_exlcude_features)\n",
    "        best_sentence = f\"{', '.join(best_feature_explanation[:-1])} and {best_feature_explanation[-1]}\" if len(best_feature_explanation) > 1 else best_feature_explanation[0]\n",
    "        print(f\"By executing {best_action_name}, I also expect {best_sentence}.\", end=\" \")\n",
    "    \n",
    "    if len(ca_exlcude_features):\n",
    "        comparision_feature_explanation = generate_explanation_list(ca_feature_differences, ca_percentage_differences, ca_exlcude_features)\n",
    "        comparision_sentence = f\"{', '.join(comparision_feature_explanation[:-1])} and {comparision_feature_explanation[-1]}\" if len(comparision_feature_explanation) > 1 else comparision_feature_explanation[0]\n",
    "        print(f\"By executing {action_name}, I will expect {comparision_sentence}.\") "
   ]
  },
  {
   "cell_type": "markdown",
   "id": "96dc3c86",
   "metadata": {},
   "source": [
    "## Starting State"
   ]
  },
  {
   "cell_type": "code",
   "execution_count": 7,
   "id": "ab5ea333",
   "metadata": {
    "ExecuteTime": {
     "end_time": "2023-02-23T12:59:13.488155Z",
     "start_time": "2023-02-23T12:59:13.457238Z"
    }
   },
   "outputs": [
    {
     "data": {
      "text/html": [
       "<div>\n",
       "<style scoped>\n",
       "    .dataframe tbody tr th:only-of-type {\n",
       "        vertical-align: middle;\n",
       "    }\n",
       "\n",
       "    .dataframe tbody tr th {\n",
       "        vertical-align: top;\n",
       "    }\n",
       "\n",
       "    .dataframe thead th {\n",
       "        text-align: right;\n",
       "    }\n",
       "</style>\n",
       "<table border=\"1\" class=\"dataframe\">\n",
       "  <thead>\n",
       "    <tr style=\"text-align: right;\">\n",
       "      <th></th>\n",
       "      <th>Depth</th>\n",
       "      <th>Name</th>\n",
       "      <th>Value</th>\n",
       "      <th>Visits</th>\n",
       "      <th>Parent_Name</th>\n",
       "      <th>Game_State</th>\n",
       "      <th>Game_Features</th>\n",
       "      <th>Game_State_Heuristic</th>\n",
       "      <th>Action_Name</th>\n",
       "      <th>Best_Action</th>\n",
       "    </tr>\n",
       "  </thead>\n",
       "  <tbody>\n",
       "    <tr>\n",
       "      <th>0</th>\n",
       "      <td>0</td>\n",
       "      <td>Node_1</td>\n",
       "      <td>0.0</td>\n",
       "      <td>263</td>\n",
       "      <td>None</td>\n",
       "      <td>{\"Edge_Owner_6061\":-1,\"Edge_Owner_6263\":-1,\"Ed...</td>\n",
       "      <td>{\"SCORE\":0.05,\"SCORE_ADV\":0.1,\"ORDINAL\":0.5,\"O...</td>\n",
       "      <td>1.0</td>\n",
       "      <td>None</td>\n",
       "      <td>(0,1) -&gt; (0,2)</td>\n",
       "    </tr>\n",
       "    <tr>\n",
       "      <th>1</th>\n",
       "      <td>1</td>\n",
       "      <td>Node_2</td>\n",
       "      <td>0.0</td>\n",
       "      <td>4</td>\n",
       "      <td>Node_1</td>\n",
       "      <td>{\"Edge_Owner_6061\":-1,\"Edge_Owner_6263\":-1,\"Ed...</td>\n",
       "      <td>{\"SCORE\":0.05,\"SCORE_ADV\":0.1,\"ORDINAL\":0.5,\"O...</td>\n",
       "      <td>1.0</td>\n",
       "      <td>(0,1) -&gt; (0,2)</td>\n",
       "      <td>(7,2) -&gt; (7,3)</td>\n",
       "    </tr>\n",
       "    <tr>\n",
       "      <th>2</th>\n",
       "      <td>1</td>\n",
       "      <td>Node_3</td>\n",
       "      <td>0.0</td>\n",
       "      <td>4</td>\n",
       "      <td>Node_1</td>\n",
       "      <td>{\"Edge_Owner_6061\":-1,\"Edge_Owner_6263\":-1,\"Ed...</td>\n",
       "      <td>{\"SCORE\":0.05,\"SCORE_ADV\":0.1,\"ORDINAL\":0.5,\"O...</td>\n",
       "      <td>1.0</td>\n",
       "      <td>(0,3) -&gt; (0,4)</td>\n",
       "      <td>(1,2) -&gt; (2,2)</td>\n",
       "    </tr>\n",
       "    <tr>\n",
       "      <th>3</th>\n",
       "      <td>1</td>\n",
       "      <td>Node_4</td>\n",
       "      <td>0.0</td>\n",
       "      <td>4</td>\n",
       "      <td>Node_1</td>\n",
       "      <td>{\"Edge_Owner_6061\":-1,\"Edge_Owner_6263\":-1,\"Ed...</td>\n",
       "      <td>{\"SCORE\":0.05,\"SCORE_ADV\":0.1,\"ORDINAL\":0.5,\"O...</td>\n",
       "      <td>1.0</td>\n",
       "      <td>(0,0) -&gt; (1,0)</td>\n",
       "      <td>(3,4) -&gt; (4,4)</td>\n",
       "    </tr>\n",
       "    <tr>\n",
       "      <th>4</th>\n",
       "      <td>1</td>\n",
       "      <td>Node_5</td>\n",
       "      <td>0.0</td>\n",
       "      <td>4</td>\n",
       "      <td>Node_1</td>\n",
       "      <td>{\"Edge_Owner_6061\":-1,\"Edge_Owner_6263\":-1,\"Ed...</td>\n",
       "      <td>{\"SCORE\":0.05,\"SCORE_ADV\":0.1,\"ORDINAL\":0.5,\"O...</td>\n",
       "      <td>1.0</td>\n",
       "      <td>(0,2) -&gt; (1,2)</td>\n",
       "      <td>(2,0) -&gt; (2,1)</td>\n",
       "    </tr>\n",
       "  </tbody>\n",
       "</table>\n",
       "</div>"
      ],
      "text/plain": [
       "   Depth    Name  Value  Visits Parent_Name  \\\n",
       "0      0  Node_1    0.0     263        None   \n",
       "1      1  Node_2    0.0       4      Node_1   \n",
       "2      1  Node_3    0.0       4      Node_1   \n",
       "3      1  Node_4    0.0       4      Node_1   \n",
       "4      1  Node_5    0.0       4      Node_1   \n",
       "\n",
       "                                          Game_State  \\\n",
       "0  {\"Edge_Owner_6061\":-1,\"Edge_Owner_6263\":-1,\"Ed...   \n",
       "1  {\"Edge_Owner_6061\":-1,\"Edge_Owner_6263\":-1,\"Ed...   \n",
       "2  {\"Edge_Owner_6061\":-1,\"Edge_Owner_6263\":-1,\"Ed...   \n",
       "3  {\"Edge_Owner_6061\":-1,\"Edge_Owner_6263\":-1,\"Ed...   \n",
       "4  {\"Edge_Owner_6061\":-1,\"Edge_Owner_6263\":-1,\"Ed...   \n",
       "\n",
       "                                       Game_Features  Game_State_Heuristic  \\\n",
       "0  {\"SCORE\":0.05,\"SCORE_ADV\":0.1,\"ORDINAL\":0.5,\"O...                   1.0   \n",
       "1  {\"SCORE\":0.05,\"SCORE_ADV\":0.1,\"ORDINAL\":0.5,\"O...                   1.0   \n",
       "2  {\"SCORE\":0.05,\"SCORE_ADV\":0.1,\"ORDINAL\":0.5,\"O...                   1.0   \n",
       "3  {\"SCORE\":0.05,\"SCORE_ADV\":0.1,\"ORDINAL\":0.5,\"O...                   1.0   \n",
       "4  {\"SCORE\":0.05,\"SCORE_ADV\":0.1,\"ORDINAL\":0.5,\"O...                   1.0   \n",
       "\n",
       "      Action_Name     Best_Action  \n",
       "0            None  (0,1) -> (0,2)  \n",
       "1  (0,1) -> (0,2)  (7,2) -> (7,3)  \n",
       "2  (0,3) -> (0,4)  (1,2) -> (2,2)  \n",
       "3  (0,0) -> (1,0)  (3,4) -> (4,4)  \n",
       "4  (0,2) -> (1,2)  (2,0) -> (2,1)  "
      ]
     },
     "execution_count": 7,
     "metadata": {},
     "output_type": "execute_result"
    }
   ],
   "source": [
    "df = pd.read_csv(\"DotsAndBoxes/record_10.csv\", sep='\\t')\n",
    "best_action_name = df[df['Parent_Name'] == 'None'].Best_Action.values[0]\n",
    "df.head()"
   ]
  },
  {
   "cell_type": "code",
   "execution_count": 8,
   "id": "e89b7a79",
   "metadata": {
    "ExecuteTime": {
     "end_time": "2023-02-23T12:59:13.503116Z",
     "start_time": "2023-02-23T12:59:13.489153Z"
    }
   },
   "outputs": [
    {
     "name": "stdout",
     "output_type": "stream",
     "text": [
      "There are 2 actions are exectued.\n",
      "NO_BOXES -4.0\n",
      "ONE_BOXES 3.0\n",
      "TWO_BOXES 1.0\n"
     ]
    }
   ],
   "source": [
    "best_action_paths = get_action_path(df, action_name='(0,3) -> (0,4)')\n",
    "best_action_path_differences, _ = get_path_feature_difference(best_action_paths)\n",
    "print(f\"There are {len(best_action_paths) - 1} actions are exectued.\")\n",
    "for feature, difference in best_action_path_differences.items():\n",
    "    print(feature, difference)"
   ]
  },
  {
   "cell_type": "code",
   "execution_count": 9,
   "id": "14eb0e05",
   "metadata": {
    "ExecuteTime": {
     "end_time": "2023-02-23T12:59:13.519073Z",
     "start_time": "2023-02-23T12:59:13.506108Z"
    }
   },
   "outputs": [
    {
     "name": "stdout",
     "output_type": "stream",
     "text": [
      "There are 2 actions are exectued.\n",
      "NO_BOXES -3.0\n",
      "TWO_BOXES 3.0\n"
     ]
    }
   ],
   "source": [
    "worse_action_paths = get_action_path(df, action_name=best_action_name, is_max=False)\n",
    "worse_action_path_differences, _ = get_path_feature_difference(worse_action_paths)\n",
    "print(f\"There are {len(worse_action_paths) - 1} actions are exectued.\")\n",
    "for feature, difference in worse_action_path_differences.items():\n",
    "    print(feature, difference)"
   ]
  },
  {
   "cell_type": "code",
   "execution_count": 10,
   "id": "99bb4635",
   "metadata": {
    "ExecuteTime": {
     "end_time": "2023-02-23T12:59:13.534033Z",
     "start_time": "2023-02-23T12:59:13.520072Z"
    }
   },
   "outputs": [
    {
     "name": "stdout",
     "output_type": "stream",
     "text": [
      "There are 65 actions available for this state.\n",
      "The value of every action is the same.\n",
      "The explaination is based on the result of executing 2 action(s) by the agent.\n",
      "After executing (0,1) -> (0,2), I expected NO_BOXES decrease by 21.4% and TWO_BOXES increase by 60.0% in the future state.\n"
     ]
    }
   ],
   "source": [
    "explanation_by_paths(df)"
   ]
  },
  {
   "cell_type": "code",
   "execution_count": 11,
   "id": "850777ee",
   "metadata": {
    "ExecuteTime": {
     "end_time": "2023-02-23T12:59:13.548993Z",
     "start_time": "2023-02-23T12:59:13.535030Z"
    }
   },
   "outputs": [
    {
     "data": {
      "text/plain": [
       "array(['(0,1) -> (0,2)', '(0,3) -> (0,4)', '(0,0) -> (1,0)',\n",
       "       '(0,2) -> (1,2)', '(0,4) -> (1,4)', '(1,2) -> (1,3)',\n",
       "       '(1,4) -> (1,5)', '(1,1) -> (2,1)', '(1,3) -> (2,3)',\n",
       "       '(1,5) -> (2,5)', '(2,2) -> (3,2)', '(3,0) -> (3,1)',\n",
       "       '(3,2) -> (3,3)', '(3,4) -> (3,5)', '(3,3) -> (4,3)',\n",
       "       '(3,5) -> (4,5)', '(4,1) -> (4,2)', '(4,0) -> (5,0)',\n",
       "       '(4,2) -> (5,2)', '(4,4) -> (5,4)', '(5,0) -> (5,1)',\n",
       "       '(5,2) -> (5,3)', '(5,4) -> (5,5)', '(5,1) -> (6,1)',\n",
       "       '(5,3) -> (6,3)', '(5,5) -> (6,5)', '(6,1) -> (6,2)',\n",
       "       '(6,3) -> (6,4)', '(6,0) -> (7,0)', '(6,2) -> (7,2)',\n",
       "       '(7,0) -> (7,1)', '(7,2) -> (7,3)', '(7,4) -> (7,5)',\n",
       "       '(0,1) -> (1,1)', '(0,3) -> (1,3)', '(1,1) -> (1,2)',\n",
       "       '(1,3) -> (1,4)', '(1,0) -> (2,0)', '(1,2) -> (2,2)',\n",
       "       '(2,0) -> (2,1)', '(2,2) -> (2,3)', '(2,4) -> (2,5)',\n",
       "       '(2,1) -> (3,1)', '(2,5) -> (3,5)', '(3,1) -> (3,2)',\n",
       "       '(3,0) -> (4,0)', '(3,2) -> (4,2)', '(3,4) -> (4,4)',\n",
       "       '(4,4) -> (4,5)', '(4,1) -> (5,1)', '(4,3) -> (5,3)',\n",
       "       '(4,5) -> (5,5)', '(5,1) -> (5,2)', '(5,3) -> (5,4)',\n",
       "       '(5,0) -> (6,0)', '(5,2) -> (6,2)', '(5,4) -> (6,4)',\n",
       "       '(6,0) -> (6,1)', '(6,2) -> (6,3)', '(6,4) -> (6,5)',\n",
       "       '(6,1) -> (7,1)', '(6,3) -> (7,3)', '(6,5) -> (7,5)',\n",
       "       '(7,1) -> (7,2)', '(7,3) -> (7,4)'], dtype=object)"
      ]
     },
     "execution_count": 11,
     "metadata": {},
     "output_type": "execute_result"
    }
   ],
   "source": [
    "childrens = df[df['Parent_Name'] == 'Node_1'].Action_Name.values\n",
    "childrens"
   ]
  },
  {
   "cell_type": "code",
   "execution_count": 12,
   "id": "78bccb53",
   "metadata": {
    "ExecuteTime": {
     "end_time": "2023-02-23T12:59:13.564950Z",
     "start_time": "2023-02-23T12:59:13.549990Z"
    }
   },
   "outputs": [
    {
     "name": "stdout",
     "output_type": "stream",
     "text": [
      "There are 65 actions available for this state.\n",
      "The value of every action is the same.\n",
      "Counterfactual explanation based on (0,1) -> (0,2) and (7,2) -> (7,3)\n",
      "The explaination is based on the result of executing 2 action(s) by the agent.\n",
      "After executing (0,1) -> (0,2) or (7,2) -> (7,3), I expect NO_BOXES decrease by around 17.9% and TWO_BOXES increase by around 60.0% in the future state. By executing (7,2) -> (7,3), I will expect ONE_BOXES decrease by 13.3% and THREE_BOXES increase.\n"
     ]
    }
   ],
   "source": [
    "counterfactual_explanation_by_paths(df)"
   ]
  },
  {
   "cell_type": "code",
   "execution_count": 13,
   "id": "f44b416c",
   "metadata": {
    "ExecuteTime": {
     "end_time": "2023-02-23T12:59:13.579910Z",
     "start_time": "2023-02-23T12:59:13.565948Z"
    }
   },
   "outputs": [
    {
     "name": "stdout",
     "output_type": "stream",
     "text": [
      "There are 65 actions available for this state.\n",
      "The value of every action is the same.\n",
      "Counterfactual explanation based on (0,1) -> (0,2) and (4,3) -> (5,3)\n",
      "The explaination is based on the result of executing 2 action(s) by the agent.\n",
      "After executing (0,1) -> (0,2) or (4,3) -> (5,3), I expect NO_BOXES decrease by around 17.9% and TWO_BOXES increase by around 70.0% in the future state. By executing (4,3) -> (5,3), I will expect ONE_BOXES decrease by 20.0% and THREE_BOXES increase.\n"
     ]
    }
   ],
   "source": [
    "counterfactual_explanation_by_paths(df, '(4,3) -> (5,3)')"
   ]
  },
  {
   "cell_type": "markdown",
   "id": "dd3d9aca",
   "metadata": {},
   "source": [
    "## Middle State (1)"
   ]
  },
  {
   "cell_type": "code",
   "execution_count": 14,
   "id": "93171fe1",
   "metadata": {
    "ExecuteTime": {
     "end_time": "2023-02-23T12:59:13.626785Z",
     "start_time": "2023-02-23T12:59:13.580908Z"
    }
   },
   "outputs": [
    {
     "data": {
      "text/html": [
       "<div>\n",
       "<style scoped>\n",
       "    .dataframe tbody tr th:only-of-type {\n",
       "        vertical-align: middle;\n",
       "    }\n",
       "\n",
       "    .dataframe tbody tr th {\n",
       "        vertical-align: top;\n",
       "    }\n",
       "\n",
       "    .dataframe thead th {\n",
       "        text-align: right;\n",
       "    }\n",
       "</style>\n",
       "<table border=\"1\" class=\"dataframe\">\n",
       "  <thead>\n",
       "    <tr style=\"text-align: right;\">\n",
       "      <th></th>\n",
       "      <th>Depth</th>\n",
       "      <th>Name</th>\n",
       "      <th>Value</th>\n",
       "      <th>Visits</th>\n",
       "      <th>Parent_Name</th>\n",
       "      <th>Game_State</th>\n",
       "      <th>Game_Features</th>\n",
       "      <th>Game_State_Heuristic</th>\n",
       "      <th>Action_Name</th>\n",
       "      <th>Best_Action</th>\n",
       "    </tr>\n",
       "  </thead>\n",
       "  <tbody>\n",
       "    <tr>\n",
       "      <th>0</th>\n",
       "      <td>0</td>\n",
       "      <td>Node_1</td>\n",
       "      <td>0.404</td>\n",
       "      <td>564</td>\n",
       "      <td>None</td>\n",
       "      <td>{\"Edge_Owner_6061\":0,\"Edge_Owner_6263\":-1,\"Edg...</td>\n",
       "      <td>{\"SCORE\":0.8,\"SCORE_ADV\":1.6,\"ORDINAL\":0.5,\"OU...</td>\n",
       "      <td>16.0</td>\n",
       "      <td>None</td>\n",
       "      <td>(2,0) -&gt; (2,1)</td>\n",
       "    </tr>\n",
       "    <tr>\n",
       "      <th>1</th>\n",
       "      <td>1</td>\n",
       "      <td>Node_2</td>\n",
       "      <td>0.000</td>\n",
       "      <td>14</td>\n",
       "      <td>Node_1</td>\n",
       "      <td>{\"Edge_Owner_6061\":0,\"Edge_Owner_6263\":1,\"Edge...</td>\n",
       "      <td>{\"SCORE\":0.8,\"SCORE_ADV\":1.6,\"ORDINAL\":0.5,\"OU...</td>\n",
       "      <td>16.0</td>\n",
       "      <td>(1,0) -&gt; (2,0)</td>\n",
       "      <td>(7,3) -&gt; (7,4)</td>\n",
       "    </tr>\n",
       "    <tr>\n",
       "      <th>2</th>\n",
       "      <td>1</td>\n",
       "      <td>Node_3</td>\n",
       "      <td>1.200</td>\n",
       "      <td>76</td>\n",
       "      <td>Node_1</td>\n",
       "      <td>{\"Edge_Owner_6061\":0,\"Edge_Owner_6263\":-1,\"Edg...</td>\n",
       "      <td>{\"SCORE\":0.85,\"SCORE_ADV\":1.7,\"ORDINAL\":0.5,\"O...</td>\n",
       "      <td>17.0</td>\n",
       "      <td>(2,0) -&gt; (2,1)</td>\n",
       "      <td>(3,2) -&gt; (4,2)</td>\n",
       "    </tr>\n",
       "    <tr>\n",
       "      <th>3</th>\n",
       "      <td>1</td>\n",
       "      <td>Node_4</td>\n",
       "      <td>1.150</td>\n",
       "      <td>71</td>\n",
       "      <td>Node_1</td>\n",
       "      <td>{\"Edge_Owner_6061\":0,\"Edge_Owner_6263\":-1,\"Edg...</td>\n",
       "      <td>{\"SCORE\":0.85,\"SCORE_ADV\":1.7,\"ORDINAL\":0.5,\"O...</td>\n",
       "      <td>17.0</td>\n",
       "      <td>(3,2) -&gt; (4,2)</td>\n",
       "      <td>(2,0) -&gt; (2,1)</td>\n",
       "    </tr>\n",
       "    <tr>\n",
       "      <th>4</th>\n",
       "      <td>1</td>\n",
       "      <td>Node_5</td>\n",
       "      <td>0.222</td>\n",
       "      <td>18</td>\n",
       "      <td>Node_1</td>\n",
       "      <td>{\"Edge_Owner_6061\":0,\"Edge_Owner_6263\":-1,\"Edg...</td>\n",
       "      <td>{\"SCORE\":0.8,\"SCORE_ADV\":1.6,\"ORDINAL\":0.5,\"OU...</td>\n",
       "      <td>16.0</td>\n",
       "      <td>(3,5) -&gt; (4,5)</td>\n",
       "      <td>(2,0) -&gt; (2,1)</td>\n",
       "    </tr>\n",
       "  </tbody>\n",
       "</table>\n",
       "</div>"
      ],
      "text/plain": [
       "   Depth    Name  Value  Visits Parent_Name  \\\n",
       "0      0  Node_1  0.404     564        None   \n",
       "1      1  Node_2  0.000      14      Node_1   \n",
       "2      1  Node_3  1.200      76      Node_1   \n",
       "3      1  Node_4  1.150      71      Node_1   \n",
       "4      1  Node_5  0.222      18      Node_1   \n",
       "\n",
       "                                          Game_State  \\\n",
       "0  {\"Edge_Owner_6061\":0,\"Edge_Owner_6263\":-1,\"Edg...   \n",
       "1  {\"Edge_Owner_6061\":0,\"Edge_Owner_6263\":1,\"Edge...   \n",
       "2  {\"Edge_Owner_6061\":0,\"Edge_Owner_6263\":-1,\"Edg...   \n",
       "3  {\"Edge_Owner_6061\":0,\"Edge_Owner_6263\":-1,\"Edg...   \n",
       "4  {\"Edge_Owner_6061\":0,\"Edge_Owner_6263\":-1,\"Edg...   \n",
       "\n",
       "                                       Game_Features  Game_State_Heuristic  \\\n",
       "0  {\"SCORE\":0.8,\"SCORE_ADV\":1.6,\"ORDINAL\":0.5,\"OU...                  16.0   \n",
       "1  {\"SCORE\":0.8,\"SCORE_ADV\":1.6,\"ORDINAL\":0.5,\"OU...                  16.0   \n",
       "2  {\"SCORE\":0.85,\"SCORE_ADV\":1.7,\"ORDINAL\":0.5,\"O...                  17.0   \n",
       "3  {\"SCORE\":0.85,\"SCORE_ADV\":1.7,\"ORDINAL\":0.5,\"O...                  17.0   \n",
       "4  {\"SCORE\":0.8,\"SCORE_ADV\":1.6,\"ORDINAL\":0.5,\"OU...                  16.0   \n",
       "\n",
       "      Action_Name     Best_Action  \n",
       "0            None  (2,0) -> (2,1)  \n",
       "1  (1,0) -> (2,0)  (7,3) -> (7,4)  \n",
       "2  (2,0) -> (2,1)  (3,2) -> (4,2)  \n",
       "3  (3,2) -> (4,2)  (2,0) -> (2,1)  \n",
       "4  (3,5) -> (4,5)  (2,0) -> (2,1)  "
      ]
     },
     "execution_count": 14,
     "metadata": {},
     "output_type": "execute_result"
    }
   ],
   "source": [
    "df = pd.read_csv(\"DotsAndBoxes/record_36.csv\", sep='\\t')\n",
    "best_action_name = df[df['Parent_Name'] == 'None'].Best_Action.values[0]\n",
    "df.head()"
   ]
  },
  {
   "cell_type": "code",
   "execution_count": 15,
   "id": "43cea456",
   "metadata": {
    "ExecuteTime": {
     "end_time": "2023-02-23T12:59:13.642742Z",
     "start_time": "2023-02-23T12:59:13.627783Z"
    }
   },
   "outputs": [
    {
     "name": "stdout",
     "output_type": "stream",
     "text": [
      "There are 3 actions are exectued.\n",
      "SCORE 0.1499999999999999\n",
      "SCORE_ADV 0.2999999999999998\n",
      "TWO_BOXES -2.0\n",
      "THREE_BOXES -1.0\n",
      "OWNED_FILLED_BOXES 3.0\n"
     ]
    }
   ],
   "source": [
    "best_action_paths = get_action_path(df, action_name=best_action_name)\n",
    "best_action_path_differences, _  = get_path_feature_difference(best_action_paths)\n",
    "print(f\"There are {len(best_action_paths) - 1} actions are exectued.\")\n",
    "for feature, difference in best_action_path_differences.items():\n",
    "    print(feature, difference)"
   ]
  },
  {
   "cell_type": "code",
   "execution_count": 16,
   "id": "0de482eb",
   "metadata": {
    "ExecuteTime": {
     "end_time": "2023-02-23T12:59:13.657702Z",
     "start_time": "2023-02-23T12:59:13.643740Z"
    }
   },
   "outputs": [
    {
     "name": "stdout",
     "output_type": "stream",
     "text": [
      "There are 3 actions are exectued.\n",
      "SCORE 0.04999999999999993\n",
      "NO_BOXES -2.0\n",
      "TWO_BOXES -4.0\n",
      "THREE_BOXES 4.0\n",
      "OPPONENTS_FILLED_BOXES 1.0\n",
      "OWNED_FILLED_BOXES 1.0\n"
     ]
    }
   ],
   "source": [
    "worse_action_paths = get_action_path(df, action_name=best_action_name, is_max=False)\n",
    "worse_action_path_differences, _  = get_path_feature_difference(worse_action_paths)\n",
    "print(f\"There are {len(worse_action_paths) - 1} actions are exectued.\")\n",
    "for feature, difference in worse_action_path_differences.items():\n",
    "    print(feature, difference)"
   ]
  },
  {
   "cell_type": "code",
   "execution_count": 17,
   "id": "9802eddf",
   "metadata": {
    "ExecuteTime": {
     "end_time": "2023-02-23T12:59:13.672662Z",
     "start_time": "2023-02-23T12:59:13.658700Z"
    }
   },
   "outputs": [
    {
     "name": "stdout",
     "output_type": "stream",
     "text": [
      "There are 28 actions available for this state.\n",
      "The explaination is based on the result of executing 3 action(s) by the agent.\n",
      "After executing (2,0) -> (2,1), I expect SCORE increase by around 12.5%, TWO_BOXES decrease by around 33.3% and OWNED_FILLED_BOXES increase by around 12.5% in the future state. In the best situation, I also expect SCORE_ADV increase by 18.7% and THREE_BOXES decrease by 50.0%. However, I may expect NO_BOXES decrease by 66.7%, THREE_BOXES increase by 200.0% and OPPONENTS_FILLED_BOXES increase in the worst situation.\n"
     ]
    }
   ],
   "source": [
    "explanation_by_paths(df)"
   ]
  },
  {
   "cell_type": "code",
   "execution_count": 18,
   "id": "37f29a97",
   "metadata": {
    "ExecuteTime": {
     "end_time": "2023-02-23T12:59:13.688619Z",
     "start_time": "2023-02-23T12:59:13.673660Z"
    }
   },
   "outputs": [
    {
     "name": "stdout",
     "output_type": "stream",
     "text": [
      "There are 28 actions available for this state.\n",
      "Counterfactual explanation based on (2,0) -> (2,1) and (3,2) -> (4,2)\n",
      "The explaination is based on the result of executing 3 action(s) by the agent.\n",
      "After executing (2,0) -> (2,1) or (3,2) -> (4,2), I expect SCORE_ADV increase by around 15.6%, SCORE increase by around 15.6%, OWNED_FILLED_BOXES increase by around 15.6% and TWO_BOXES decrease by around 33.3% in the future state. By executing (2,0) -> (2,1), I also expect THREE_BOXES decrease by 50.0%. By executing (3,2) -> (4,2), I will expect NO_BOXES decrease by 33.3%, ONE_BOXES increase by 20.0% and THREE_BOXES increase by 100.0%.\n"
     ]
    }
   ],
   "source": [
    "counterfactual_explanation_by_paths(df)"
   ]
  },
  {
   "cell_type": "markdown",
   "id": "d03934ac",
   "metadata": {},
   "source": [
    "## Middle State (2)"
   ]
  },
  {
   "cell_type": "code",
   "execution_count": 19,
   "id": "d11fa0ea",
   "metadata": {
    "ExecuteTime": {
     "end_time": "2023-02-23T12:59:13.735494Z",
     "start_time": "2023-02-23T12:59:13.689617Z"
    }
   },
   "outputs": [
    {
     "data": {
      "text/html": [
       "<div>\n",
       "<style scoped>\n",
       "    .dataframe tbody tr th:only-of-type {\n",
       "        vertical-align: middle;\n",
       "    }\n",
       "\n",
       "    .dataframe tbody tr th {\n",
       "        vertical-align: top;\n",
       "    }\n",
       "\n",
       "    .dataframe thead th {\n",
       "        text-align: right;\n",
       "    }\n",
       "</style>\n",
       "<table border=\"1\" class=\"dataframe\">\n",
       "  <thead>\n",
       "    <tr style=\"text-align: right;\">\n",
       "      <th></th>\n",
       "      <th>Depth</th>\n",
       "      <th>Name</th>\n",
       "      <th>Value</th>\n",
       "      <th>Visits</th>\n",
       "      <th>Parent_Name</th>\n",
       "      <th>Game_State</th>\n",
       "      <th>Game_Features</th>\n",
       "      <th>Game_State_Heuristic</th>\n",
       "      <th>Action_Name</th>\n",
       "      <th>Best_Action</th>\n",
       "    </tr>\n",
       "  </thead>\n",
       "  <tbody>\n",
       "    <tr>\n",
       "      <th>0</th>\n",
       "      <td>0</td>\n",
       "      <td>Node_1</td>\n",
       "      <td>0.1600</td>\n",
       "      <td>570</td>\n",
       "      <td>None</td>\n",
       "      <td>{\"Edge_Owner_6061\":0,\"Edge_Owner_6263\":-1,\"Edg...</td>\n",
       "      <td>{\"SCORE\":1.15,\"SCORE_ADV\":2.3,\"ORDINAL\":0.5,\"O...</td>\n",
       "      <td>23.0</td>\n",
       "      <td>None</td>\n",
       "      <td>(3,5) -&gt; (4,5)</td>\n",
       "    </tr>\n",
       "    <tr>\n",
       "      <th>1</th>\n",
       "      <td>1</td>\n",
       "      <td>Node_2</td>\n",
       "      <td>0.0741</td>\n",
       "      <td>27</td>\n",
       "      <td>Node_1</td>\n",
       "      <td>{\"Edge_Owner_6061\":0,\"Edge_Owner_6263\":-1,\"Edg...</td>\n",
       "      <td>{\"SCORE\":1.15,\"SCORE_ADV\":2.3,\"ORDINAL\":0.5,\"O...</td>\n",
       "      <td>23.0</td>\n",
       "      <td>(5,2) -&gt; (6,2)</td>\n",
       "      <td>(6,1) -&gt; (6,2)</td>\n",
       "    </tr>\n",
       "    <tr>\n",
       "      <th>2</th>\n",
       "      <td>1</td>\n",
       "      <td>Node_3</td>\n",
       "      <td>0.2570</td>\n",
       "      <td>35</td>\n",
       "      <td>Node_1</td>\n",
       "      <td>{\"Edge_Owner_6061\":0,\"Edge_Owner_6263\":-1,\"Edg...</td>\n",
       "      <td>{\"SCORE\":1.15,\"SCORE_ADV\":2.3,\"ORDINAL\":0.5,\"O...</td>\n",
       "      <td>23.0</td>\n",
       "      <td>(5,4) -&gt; (6,4)</td>\n",
       "      <td>(5,2) -&gt; (6,2)</td>\n",
       "    </tr>\n",
       "    <tr>\n",
       "      <th>3</th>\n",
       "      <td>1</td>\n",
       "      <td>Node_4</td>\n",
       "      <td>0.0741</td>\n",
       "      <td>27</td>\n",
       "      <td>Node_1</td>\n",
       "      <td>{\"Edge_Owner_6061\":0,\"Edge_Owner_6263\":-1,\"Edg...</td>\n",
       "      <td>{\"SCORE\":1.15,\"SCORE_ADV\":2.3,\"ORDINAL\":0.5,\"O...</td>\n",
       "      <td>23.0</td>\n",
       "      <td>(5,5) -&gt; (6,5)</td>\n",
       "      <td>(5,4) -&gt; (6,4)</td>\n",
       "    </tr>\n",
       "    <tr>\n",
       "      <th>4</th>\n",
       "      <td>1</td>\n",
       "      <td>Node_5</td>\n",
       "      <td>0.0000</td>\n",
       "      <td>24</td>\n",
       "      <td>Node_1</td>\n",
       "      <td>{\"Edge_Owner_6061\":0,\"Edge_Owner_6263\":0,\"Edge...</td>\n",
       "      <td>{\"SCORE\":1.15,\"SCORE_ADV\":2.3,\"ORDINAL\":0.5,\"O...</td>\n",
       "      <td>23.0</td>\n",
       "      <td>(6,2) -&gt; (6,3)</td>\n",
       "      <td>(5,2) -&gt; (6,2)</td>\n",
       "    </tr>\n",
       "  </tbody>\n",
       "</table>\n",
       "</div>"
      ],
      "text/plain": [
       "   Depth    Name   Value  Visits Parent_Name  \\\n",
       "0      0  Node_1  0.1600     570        None   \n",
       "1      1  Node_2  0.0741      27      Node_1   \n",
       "2      1  Node_3  0.2570      35      Node_1   \n",
       "3      1  Node_4  0.0741      27      Node_1   \n",
       "4      1  Node_5  0.0000      24      Node_1   \n",
       "\n",
       "                                          Game_State  \\\n",
       "0  {\"Edge_Owner_6061\":0,\"Edge_Owner_6263\":-1,\"Edg...   \n",
       "1  {\"Edge_Owner_6061\":0,\"Edge_Owner_6263\":-1,\"Edg...   \n",
       "2  {\"Edge_Owner_6061\":0,\"Edge_Owner_6263\":-1,\"Edg...   \n",
       "3  {\"Edge_Owner_6061\":0,\"Edge_Owner_6263\":-1,\"Edg...   \n",
       "4  {\"Edge_Owner_6061\":0,\"Edge_Owner_6263\":0,\"Edge...   \n",
       "\n",
       "                                       Game_Features  Game_State_Heuristic  \\\n",
       "0  {\"SCORE\":1.15,\"SCORE_ADV\":2.3,\"ORDINAL\":0.5,\"O...                  23.0   \n",
       "1  {\"SCORE\":1.15,\"SCORE_ADV\":2.3,\"ORDINAL\":0.5,\"O...                  23.0   \n",
       "2  {\"SCORE\":1.15,\"SCORE_ADV\":2.3,\"ORDINAL\":0.5,\"O...                  23.0   \n",
       "3  {\"SCORE\":1.15,\"SCORE_ADV\":2.3,\"ORDINAL\":0.5,\"O...                  23.0   \n",
       "4  {\"SCORE\":1.15,\"SCORE_ADV\":2.3,\"ORDINAL\":0.5,\"O...                  23.0   \n",
       "\n",
       "      Action_Name     Best_Action  \n",
       "0            None  (3,5) -> (4,5)  \n",
       "1  (5,2) -> (6,2)  (6,1) -> (6,2)  \n",
       "2  (5,4) -> (6,4)  (5,2) -> (6,2)  \n",
       "3  (5,5) -> (6,5)  (5,4) -> (6,4)  \n",
       "4  (6,2) -> (6,3)  (5,2) -> (6,2)  "
      ]
     },
     "execution_count": 19,
     "metadata": {},
     "output_type": "execute_result"
    }
   ],
   "source": [
    "df = pd.read_csv(\"DotsAndBoxes/record_44.csv\", sep='\\t')\n",
    "best_action_name = df[df['Parent_Name'] == 'None'].Best_Action.values[0]\n",
    "df.head()"
   ]
  },
  {
   "cell_type": "code",
   "execution_count": 20,
   "id": "0845b440",
   "metadata": {
    "ExecuteTime": {
     "end_time": "2023-02-23T12:59:13.750454Z",
     "start_time": "2023-02-23T12:59:13.736492Z"
    }
   },
   "outputs": [
    {
     "name": "stdout",
     "output_type": "stream",
     "text": [
      "There are 3 actions are exectued.\n",
      "SCORE 0.10000000000000009\n",
      "SCORE_ADV 0.20000000000000018\n",
      "ONE_BOXES -1.0\n",
      "TWO_BOXES -2.0\n",
      "THREE_BOXES 1.0\n",
      "OWNED_FILLED_BOXES 2.0\n"
     ]
    }
   ],
   "source": [
    "best_action_paths = get_action_path(df, action_name=best_action_name)\n",
    "best_action_path_differences, _  = get_path_feature_difference(best_action_paths)\n",
    "print(f\"There are {len(best_action_paths) - 1} actions are exectued.\")\n",
    "for feature, difference in best_action_path_differences.items():\n",
    "    print(feature, difference)"
   ]
  },
  {
   "cell_type": "code",
   "execution_count": 21,
   "id": "d2d204a6",
   "metadata": {
    "ExecuteTime": {
     "end_time": "2023-02-23T12:59:13.766411Z",
     "start_time": "2023-02-23T12:59:13.751452Z"
    }
   },
   "outputs": [
    {
     "name": "stdout",
     "output_type": "stream",
     "text": [
      "There are 3 actions are exectued.\n",
      "SCORE_ADV -0.19999999999999973\n",
      "NO_BOXES -2.0\n",
      "ONE_BOXES -1.0\n",
      "TWO_BOXES -1.0\n",
      "THREE_BOXES 2.0\n",
      "OPPONENTS_FILLED_BOXES 2.0\n"
     ]
    }
   ],
   "source": [
    "worse_action_paths = get_action_path(df, action_name=best_action_name, is_max=False)\n",
    "worse_action_path_differences, _  = get_path_feature_difference(worse_action_paths)\n",
    "print(f\"There are {len(worse_action_paths) - 1} actions are exectued.\")\n",
    "for feature, difference in worse_action_path_differences.items():\n",
    "    print(feature, difference)"
   ]
  },
  {
   "cell_type": "code",
   "execution_count": 22,
   "id": "789585b5",
   "metadata": {
    "ExecuteTime": {
     "end_time": "2023-02-23T12:59:13.781371Z",
     "start_time": "2023-02-23T12:59:13.767409Z"
    }
   },
   "outputs": [
    {
     "name": "stdout",
     "output_type": "stream",
     "text": [
      "There are 19 actions available for this state.\n",
      "The explaination is based on the result of executing 3 action(s) by the agent.\n",
      "After executing (3,5) -> (4,5), I expect TWO_BOXES decrease by around 21.4%, ONE_BOXES decrease by around 33.3% and THREE_BOXES increase in the future state. In the best situation, I also expect SCORE_ADV increase by 8.7%, SCORE increase by 8.7% and OWNED_FILLED_BOXES increase by 8.7%. However, I may expect SCORE_ADV decrease by 8.7%, NO_BOXES decrease by 100.0% and OPPONENTS_FILLED_BOXES increase in the worst situation.\n"
     ]
    }
   ],
   "source": [
    "explanation_by_paths(df)"
   ]
  },
  {
   "cell_type": "code",
   "execution_count": 23,
   "id": "28694d3f",
   "metadata": {
    "ExecuteTime": {
     "end_time": "2023-02-23T12:59:13.797329Z",
     "start_time": "2023-02-23T12:59:13.782369Z"
    }
   },
   "outputs": [
    {
     "name": "stdout",
     "output_type": "stream",
     "text": [
      "There are 19 actions available for this state.\n",
      "Counterfactual explanation based on (3,5) -> (4,5) and (6,1) -> (6,2)\n",
      "The explaination is based on the result of executing 3 action(s) by the agent.\n",
      "After executing (3,5) -> (4,5) or (6,1) -> (6,2), I expect SCORE_ADV increase by around 6.5%, SCORE increase by around 6.5%, ONE_BOXES decrease by around 50.0%, TWO_BOXES decrease by around 28.6%, THREE_BOXES increase and OWNED_FILLED_BOXES increase by around 6.5% in the future state. By executing (6,1) -> (6,2), I will expect NO_BOXES decrease by 50.0%.\n"
     ]
    }
   ],
   "source": [
    "counterfactual_explanation_by_paths(df)"
   ]
  },
  {
   "cell_type": "markdown",
   "id": "12b4f732",
   "metadata": {},
   "source": [
    "## Final State"
   ]
  },
  {
   "cell_type": "code",
   "execution_count": 24,
   "id": "4e9f47c1",
   "metadata": {
    "ExecuteTime": {
     "end_time": "2023-02-23T12:59:13.827249Z",
     "start_time": "2023-02-23T12:59:13.798326Z"
    }
   },
   "outputs": [
    {
     "data": {
      "text/html": [
       "<div>\n",
       "<style scoped>\n",
       "    .dataframe tbody tr th:only-of-type {\n",
       "        vertical-align: middle;\n",
       "    }\n",
       "\n",
       "    .dataframe tbody tr th {\n",
       "        vertical-align: top;\n",
       "    }\n",
       "\n",
       "    .dataframe thead th {\n",
       "        text-align: right;\n",
       "    }\n",
       "</style>\n",
       "<table border=\"1\" class=\"dataframe\">\n",
       "  <thead>\n",
       "    <tr style=\"text-align: right;\">\n",
       "      <th></th>\n",
       "      <th>Depth</th>\n",
       "      <th>Name</th>\n",
       "      <th>Value</th>\n",
       "      <th>Visits</th>\n",
       "      <th>Parent_Name</th>\n",
       "      <th>Game_State</th>\n",
       "      <th>Game_Features</th>\n",
       "      <th>Game_State_Heuristic</th>\n",
       "      <th>Action_Name</th>\n",
       "      <th>Best_Action</th>\n",
       "    </tr>\n",
       "  </thead>\n",
       "  <tbody>\n",
       "    <tr>\n",
       "      <th>0</th>\n",
       "      <td>0</td>\n",
       "      <td>Node_1</td>\n",
       "      <td>12.00</td>\n",
       "      <td>505</td>\n",
       "      <td>None</td>\n",
       "      <td>{\"Edge_Owner_6061\":0,\"Edge_Owner_6263\":-1,\"Edg...</td>\n",
       "      <td>{\"SCORE\":1.35,\"SCORE_ADV\":2.7,\"ORDINAL\":0.5,\"O...</td>\n",
       "      <td>27.0</td>\n",
       "      <td>None</td>\n",
       "      <td>(5,4) -&gt; (5,5)</td>\n",
       "    </tr>\n",
       "    <tr>\n",
       "      <th>1</th>\n",
       "      <td>1</td>\n",
       "      <td>Node_2</td>\n",
       "      <td>9.09</td>\n",
       "      <td>34</td>\n",
       "      <td>Node_1</td>\n",
       "      <td>{\"Edge_Owner_6061\":0,\"Edge_Owner_6263\":1,\"Edge...</td>\n",
       "      <td>{\"SCORE\":1.35,\"SCORE_ADV\":2.1,\"ORDINAL\":0.5,\"O...</td>\n",
       "      <td>27.0</td>\n",
       "      <td>(5,4) -&gt; (6,4)</td>\n",
       "      <td>(5,4) -&gt; (5,5)</td>\n",
       "    </tr>\n",
       "    <tr>\n",
       "      <th>2</th>\n",
       "      <td>1</td>\n",
       "      <td>Node_3</td>\n",
       "      <td>12.10</td>\n",
       "      <td>80</td>\n",
       "      <td>Node_1</td>\n",
       "      <td>{\"Edge_Owner_6061\":0,\"Edge_Owner_6263\":0,\"Edge...</td>\n",
       "      <td>{\"SCORE\":1.4,\"SCORE_ADV\":2.8,\"ORDINAL\":0.5,\"OU...</td>\n",
       "      <td>28.0</td>\n",
       "      <td>(6,2) -&gt; (6,3)</td>\n",
       "      <td>(5,4) -&gt; (5,5)</td>\n",
       "    </tr>\n",
       "    <tr>\n",
       "      <th>3</th>\n",
       "      <td>1</td>\n",
       "      <td>Node_4</td>\n",
       "      <td>10.30</td>\n",
       "      <td>47</td>\n",
       "      <td>Node_1</td>\n",
       "      <td>{\"Edge_Owner_6061\":0,\"Edge_Owner_6263\":-1,\"Edg...</td>\n",
       "      <td>{\"SCORE\":1.4,\"SCORE_ADV\":2.8,\"ORDINAL\":0.5,\"OU...</td>\n",
       "      <td>28.0</td>\n",
       "      <td>(6,3) -&gt; (7,3)</td>\n",
       "      <td>(5,4) -&gt; (5,5)</td>\n",
       "    </tr>\n",
       "    <tr>\n",
       "      <th>4</th>\n",
       "      <td>1</td>\n",
       "      <td>Node_5</td>\n",
       "      <td>10.70</td>\n",
       "      <td>51</td>\n",
       "      <td>Node_1</td>\n",
       "      <td>{\"Edge_Owner_6061\":0,\"Edge_Owner_6263\":-1,\"Edg...</td>\n",
       "      <td>{\"SCORE\":1.4,\"SCORE_ADV\":2.8,\"ORDINAL\":0.5,\"OU...</td>\n",
       "      <td>28.0</td>\n",
       "      <td>(7,4) -&gt; (7,5)</td>\n",
       "      <td>(5,4) -&gt; (5,5)</td>\n",
       "    </tr>\n",
       "  </tbody>\n",
       "</table>\n",
       "</div>"
      ],
      "text/plain": [
       "   Depth    Name  Value  Visits Parent_Name  \\\n",
       "0      0  Node_1  12.00     505        None   \n",
       "1      1  Node_2   9.09      34      Node_1   \n",
       "2      1  Node_3  12.10      80      Node_1   \n",
       "3      1  Node_4  10.30      47      Node_1   \n",
       "4      1  Node_5  10.70      51      Node_1   \n",
       "\n",
       "                                          Game_State  \\\n",
       "0  {\"Edge_Owner_6061\":0,\"Edge_Owner_6263\":-1,\"Edg...   \n",
       "1  {\"Edge_Owner_6061\":0,\"Edge_Owner_6263\":1,\"Edge...   \n",
       "2  {\"Edge_Owner_6061\":0,\"Edge_Owner_6263\":0,\"Edge...   \n",
       "3  {\"Edge_Owner_6061\":0,\"Edge_Owner_6263\":-1,\"Edg...   \n",
       "4  {\"Edge_Owner_6061\":0,\"Edge_Owner_6263\":-1,\"Edg...   \n",
       "\n",
       "                                       Game_Features  Game_State_Heuristic  \\\n",
       "0  {\"SCORE\":1.35,\"SCORE_ADV\":2.7,\"ORDINAL\":0.5,\"O...                  27.0   \n",
       "1  {\"SCORE\":1.35,\"SCORE_ADV\":2.1,\"ORDINAL\":0.5,\"O...                  27.0   \n",
       "2  {\"SCORE\":1.4,\"SCORE_ADV\":2.8,\"ORDINAL\":0.5,\"OU...                  28.0   \n",
       "3  {\"SCORE\":1.4,\"SCORE_ADV\":2.8,\"ORDINAL\":0.5,\"OU...                  28.0   \n",
       "4  {\"SCORE\":1.4,\"SCORE_ADV\":2.8,\"ORDINAL\":0.5,\"OU...                  28.0   \n",
       "\n",
       "      Action_Name     Best_Action  \n",
       "0            None  (5,4) -> (5,5)  \n",
       "1  (5,4) -> (6,4)  (5,4) -> (5,5)  \n",
       "2  (6,2) -> (6,3)  (5,4) -> (5,5)  \n",
       "3  (6,3) -> (7,3)  (5,4) -> (5,5)  \n",
       "4  (7,4) -> (7,5)  (5,4) -> (5,5)  "
      ]
     },
     "execution_count": 24,
     "metadata": {},
     "output_type": "execute_result"
    }
   ],
   "source": [
    "df = pd.read_csv(\"DotsAndBoxes/record_52.csv\", sep='\\t')\n",
    "best_action_name = df[df['Parent_Name'] == 'None'].Best_Action.values[0]\n",
    "df.head()"
   ]
  },
  {
   "cell_type": "code",
   "execution_count": 25,
   "id": "e197d54b",
   "metadata": {
    "ExecuteTime": {
     "end_time": "2023-02-23T12:59:13.843206Z",
     "start_time": "2023-02-23T12:59:13.828247Z"
    }
   },
   "outputs": [
    {
     "name": "stdout",
     "output_type": "stream",
     "text": [
      "There are 1 actions are exectued.\n",
      "SCORE_ADV -0.8000000000000003\n",
      "OUR_TURN -1.0\n",
      "HAS_WON 1.0\n",
      "FINAL_ORD 0.5\n",
      "TWO_BOXES -4.0\n",
      "THREE_BOXES -4.0\n",
      "OPPONENTS_FILLED_BOXES 8.0\n"
     ]
    }
   ],
   "source": [
    "best_action_paths = get_action_path(df, action_name=best_action_name)\n",
    "best_action_path_differences, _ = get_path_feature_difference(best_action_paths)\n",
    "print(f\"There are {len(best_action_paths) - 1} actions are exectued.\")\n",
    "for feature, difference in best_action_path_differences.items():\n",
    "    print(feature, difference)"
   ]
  },
  {
   "cell_type": "code",
   "execution_count": 26,
   "id": "2753ed52",
   "metadata": {
    "ExecuteTime": {
     "end_time": "2023-02-23T12:59:13.859163Z",
     "start_time": "2023-02-23T12:59:13.844204Z"
    }
   },
   "outputs": [
    {
     "name": "stdout",
     "output_type": "stream",
     "text": [
      "There are 1 actions are exectued.\n",
      "SCORE_ADV -0.8000000000000003\n",
      "OUR_TURN -1.0\n",
      "HAS_WON 1.0\n",
      "FINAL_ORD 0.5\n",
      "TWO_BOXES -4.0\n",
      "THREE_BOXES -4.0\n",
      "OPPONENTS_FILLED_BOXES 8.0\n"
     ]
    }
   ],
   "source": [
    "worse_action_paths = get_action_path(df, action_name=best_action_name, is_max=False)\n",
    "worse_action_path_differences, _ = get_path_feature_difference(worse_action_paths)\n",
    "print(f\"There are {len(worse_action_paths) - 1} actions are exectued.\")\n",
    "for feature, difference in worse_action_path_differences.items():\n",
    "    print(feature, difference)"
   ]
  },
  {
   "cell_type": "code",
   "execution_count": 27,
   "id": "0b0ab9eb",
   "metadata": {
    "ExecuteTime": {
     "end_time": "2023-02-23T12:59:13.874123Z",
     "start_time": "2023-02-23T12:59:13.863153Z"
    }
   },
   "outputs": [
    {
     "name": "stdout",
     "output_type": "stream",
     "text": [
      "There are 7 actions available for this state.\n",
      "The explaination is based on the result of executing 1 action(s) by the agent.\n",
      "After executing (5,4) -> (5,5), I expected SCORE_ADV decrease by 29.6%, OUR_TURN decrease by 100.0%, HAS_WON increase, FINAL_ORD increase, TWO_BOXES decrease by 100.0%, THREE_BOXES decrease by 100.0% and OPPONENTS_FILLED_BOXES increase in the future state.\n"
     ]
    }
   ],
   "source": [
    "explanation_by_paths(df)"
   ]
  },
  {
   "cell_type": "code",
   "execution_count": 28,
   "id": "5f7ff53a",
   "metadata": {
    "ExecuteTime": {
     "end_time": "2023-02-23T12:59:13.890080Z",
     "start_time": "2023-02-23T12:59:13.875121Z"
    }
   },
   "outputs": [
    {
     "name": "stdout",
     "output_type": "stream",
     "text": [
      "There are 7 actions available for this state.\n",
      "Counterfactual explanation based on (5,4) -> (5,5) and (5,3) -> (5,4)\n",
      "The explaination is based on the result of executing 1 action(s) by the agent.\n",
      "After executing (5,4) -> (5,5) or (5,3) -> (5,4), I expect TWO_BOXES decrease by around 62.5% in the future state. By executing (5,4) -> (5,5), I also expect SCORE_ADV decrease by 29.6%, THREE_BOXES decrease by 100.0%, OPPONENTS_FILLED_BOXES increase, OUR_TURN decrease by 100.0%, HAS_WON increase and FINAL_ORD increase. By executing (5,3) -> (5,4), I will expect SCORE_ADV increase by 3.7%, SCORE increase by 3.7% and OWNED_FILLED_BOXES increase by 3.7%.\n"
     ]
    }
   ],
   "source": [
    "counterfactual_explanation_by_paths(df)"
   ]
  },
  {
   "cell_type": "markdown",
   "id": "3d85a684",
   "metadata": {},
   "source": [
    "## Other tests"
   ]
  },
  {
   "cell_type": "code",
   "execution_count": 29,
   "id": "8fd34d67",
   "metadata": {
    "ExecuteTime": {
     "end_time": "2023-02-23T12:59:13.920000Z",
     "start_time": "2023-02-23T12:59:13.891078Z"
    }
   },
   "outputs": [
    {
     "name": "stdout",
     "output_type": "stream",
     "text": [
      "There are 73 actions available for this state.\n",
      "The value of every action is the same.\n",
      "The explaination is based on the result of executing 2 action(s) by the agent.\n",
      "After executing (4,1) -> (4,2), I expected NO_BOXES decrease by 20.0%, ONE_BOXES increase by 42.9% and TWO_BOXES increase by 100.0% in the future state.\n"
     ]
    }
   ],
   "source": [
    "df = pd.read_csv(\"DotsAndBoxes/record_6.csv\", sep='\\t')\n",
    "explanation_by_paths(df)"
   ]
  },
  {
   "cell_type": "code",
   "execution_count": 30,
   "id": "a5835ec8",
   "metadata": {
    "ExecuteTime": {
     "end_time": "2023-02-23T12:59:13.951915Z",
     "start_time": "2023-02-23T12:59:13.920998Z"
    }
   },
   "outputs": [
    {
     "name": "stdout",
     "output_type": "stream",
     "text": [
      "There are 50 actions available for this state.\n",
      "The explaination is based on the result of executing 2 action(s) by the agent.\n",
      "After executing (0,3) -> (0,4), I expect ONE_BOXES decrease by around 10.7% and THREE_BOXES increase in the future state. In the best situation, I also expect SCORE_ADV increase by 16.7%, SCORE increase by 16.7%, OWNED_FILLED_BOXES increase by 16.7% and TWO_BOXES decrease by 22.2%. However, I may expect NO_BOXES decrease by 16.7% and TWO_BOXES increase by 11.1% in the worst situation.\n"
     ]
    }
   ],
   "source": [
    "df = pd.read_csv(\"DotsAndBoxes/record_20.csv\", sep='\\t')\n",
    "explanation_by_paths(df)"
   ]
  },
  {
   "cell_type": "code",
   "execution_count": 31,
   "id": "ca09aeba",
   "metadata": {
    "ExecuteTime": {
     "end_time": "2023-02-23T12:59:13.997792Z",
     "start_time": "2023-02-23T12:59:13.952913Z"
    }
   },
   "outputs": [
    {
     "name": "stdout",
     "output_type": "stream",
     "text": [
      "There are 32 actions available for this state.\n",
      "The explaination is based on the result of executing 2 action(s) by the agent.\n",
      "After executing (2,1) -> (3,1), I expect TWO_BOXES decrease by around 16.7% and THREE_BOXES increase in the future state. In the best situation, I also expect SCORE_ADV increase by 14.3%, SCORE increase by 14.3% and OWNED_FILLED_BOXES increase by 14.3%. However, I may expect NO_BOXES decrease by 25.0% and ONE_BOXES decrease by 20.0% in the worst situation.\n"
     ]
    }
   ],
   "source": [
    "df = pd.read_csv(\"DotsAndBoxes/record_33.csv\", sep='\\t')\n",
    "explanation_by_paths(df)"
   ]
  },
  {
   "cell_type": "code",
   "execution_count": 32,
   "id": "d00a412d",
   "metadata": {
    "ExecuteTime": {
     "end_time": "2023-02-23T12:59:14.044667Z",
     "start_time": "2023-02-23T12:59:13.998790Z"
    }
   },
   "outputs": [
    {
     "name": "stdout",
     "output_type": "stream",
     "text": [
      "There are 16 actions available for this state.\n",
      "The explaination is based on the result of executing 3 action(s) by the agent.\n",
      "After executing (4,4) -> (4,5), I expect SCORE_ADV increase by around 6.3%, SCORE increase by around 6.3%, NO_BOXES decrease by around 100.0% and OWNED_FILLED_BOXES increase by around 6.2% in the future state. In the best situation, I also expect ONE_BOXES increase by 50.0% and THREE_BOXES decrease by 50.0%. However, I may expect ONE_BOXES decrease by 50.0% and THREE_BOXES increase by 100.0% in the worst situation.\n"
     ]
    }
   ],
   "source": [
    "df = pd.read_csv(\"DotsAndBoxes/record_46.csv\", sep='\\t')\n",
    "explanation_by_paths(df)"
   ]
  },
  {
   "cell_type": "code",
   "execution_count": 33,
   "id": "918fdf41",
   "metadata": {
    "ExecuteTime": {
     "end_time": "2023-02-23T12:59:14.090544Z",
     "start_time": "2023-02-23T12:59:14.045665Z"
    }
   },
   "outputs": [
    {
     "name": "stdout",
     "output_type": "stream",
     "text": [
      "There are 11 actions available for this state.\n",
      "The explaination is based on the result of executing 3 action(s) by the agent.\n",
      "After executing (6,4) -> (6,5), I expect SCORE increase by around 5.6%, ONE_BOXES decrease by around 100.0%, TWO_BOXES decrease by around 75.0%, NO_BOXES decrease by around 100.0% and OWNED_FILLED_BOXES increase by around 5.6% in the future state. In the best situation, I also expect SCORE_ADV decrease by 14.8%, OPPONENTS_FILLED_BOXES increase, THREE_BOXES decrease by 100.0%, HAS_WON increase and FINAL_ORD increase. However, I may expect SCORE_ADV increase by 3.7% and THREE_BOXES increase by 150.0% in the worst situation.\n"
     ]
    }
   ],
   "source": [
    "df = pd.read_csv(\"DotsAndBoxes/record_50.csv\", sep='\\t')\n",
    "explanation_by_paths(df)"
   ]
  },
  {
   "cell_type": "code",
   "execution_count": 34,
   "id": "43906561",
   "metadata": {
    "ExecuteTime": {
     "end_time": "2023-02-23T12:59:14.121462Z",
     "start_time": "2023-02-23T12:59:14.091542Z"
    }
   },
   "outputs": [
    {
     "name": "stdout",
     "output_type": "stream",
     "text": [
      "There are 3 actions available for this state.\n",
      "The explaination is based on the result of executing 5 action(s) by the agent.\n",
      "After executing Baron - compare the cards with player 1, I expect SCORE increase, GUARD_DISCARD decrease by around 83.3%, ROUND increase, BARON_DISCARD decrease by around 100.0%, DRAW_DECK increase by around 70.0%, PRINCE decrease by around 100.0% and BARON decrease by around 100.0% in the future state. In the best situation, I also expect SCORE_ADV increase, PRINCESS increase, CARDS increase by 88.9% and COUNTESS_DISCARD increase. However, I may expect HANDMAID_DISCARD increase, CARDS decrease by 76.4% and GUARD increase in the worst situation.\n"
     ]
    }
   ],
   "source": [
    "df = pd.read_csv(\"MCTS_test_0.csv\", sep='\\t')\n",
    "explanation_by_paths(df)"
   ]
  },
  {
   "cell_type": "code",
   "execution_count": 35,
   "id": "5428dd65",
   "metadata": {
    "ExecuteTime": {
     "end_time": "2023-02-23T12:59:14.152379Z",
     "start_time": "2023-02-23T12:59:14.123457Z"
    }
   },
   "outputs": [
    {
     "name": "stdout",
     "output_type": "stream",
     "text": [
      "There are 2 actions available for this state.\n",
      "The explaination is based on the result of executing 6 action(s) by the agent.\n",
      "After executing Priest - see the cards of player 1, I expect HANDMAID_DISCARD decrease by around 100.0%, GUARD_DISCARD decrease by around 66.7%, PRINCESS decrease by around 100.0%, PRIEST decrease by around 100.0%, ROUND increase by around 200.0%, CARDS decrease by around 36.7%, DRAW_DECK increase by around 500.0% and BARON increase in the future state. In the best situation, I also expect SCORE_ADV increase by 300.0%, SCORE increase, PRIEST_DISCARD decrease by 100.0%, HANDMAID increase, ORDINAL decrease by 50.0%, PRINCE_DISCARD decrease by 100.0% and KING_DISCARD decrease by 100.0%. However, I may expect SCORE_ADV decrease by 100.0% and PRINCESS_DISCARD increase in the worst situation.\n"
     ]
    }
   ],
   "source": [
    "df = pd.read_csv(\"MCTS_test_1.csv\", sep='\\t')\n",
    "explanation_by_paths(df)"
   ]
  },
  {
   "cell_type": "code",
   "execution_count": 36,
   "id": "2e455865",
   "metadata": {
    "ExecuteTime": {
     "end_time": "2023-02-23T12:59:14.199254Z",
     "start_time": "2023-02-23T12:59:14.153377Z"
    }
   },
   "outputs": [
    {
     "name": "stdout",
     "output_type": "stream",
     "text": [
      "There are 8 actions available for this state.\n",
      "The value of every action is the same.\n",
      "The explaination is based on the result of executing 2 action(s) by the agent.\n",
      "After executing SetGridValueAction{gridBoard=5, x=0, y=7, value=o}, I expected ROUND increase, Two_Token increase and Opponent_Two_Token increase in the future state.\n"
     ]
    }
   ],
   "source": [
    "df = pd.read_csv(\"Connect4/record_0.csv\", sep='\\t')\n",
    "explanation_by_paths(df)"
   ]
  },
  {
   "cell_type": "code",
   "execution_count": 37,
   "id": "21e4c811",
   "metadata": {
    "ExecuteTime": {
     "end_time": "2023-02-23T12:59:14.245131Z",
     "start_time": "2023-02-23T12:59:14.200251Z"
    }
   },
   "outputs": [
    {
     "name": "stdout",
     "output_type": "stream",
     "text": [
      "There are 8 actions available for this state.\n",
      "The explaination is based on the result of executing 3 action(s) by the agent.\n",
      "After executing SetGridValueAction{gridBoard=5, x=4, y=7, value=o}, I expect ROUND increase by around 83.3%, Opponent_Three_Token increase, Opponent_Two_Token increase by around 50.0% and Opponent_One_Token increase in the future state. In the best situation, I also expect SCORE_ADV increase, SCORE increase, One_Token decrease by 100.0%, HAS_WON increase, FINAL_ORD increase and Four_Token increase. However, I may expect One_Token increase by 100.0% and Two_Token increase by 100.0% in the worst situation.\n"
     ]
    }
   ],
   "source": [
    "df = pd.read_csv(\"Connect4/record_3.csv\", sep='\\t')\n",
    "explanation_by_paths(df)"
   ]
  },
  {
   "cell_type": "code",
   "execution_count": 38,
   "id": "1c77fc75",
   "metadata": {
    "ExecuteTime": {
     "end_time": "2023-02-23T12:59:14.292006Z",
     "start_time": "2023-02-23T12:59:14.247127Z"
    }
   },
   "outputs": [
    {
     "name": "stdout",
     "output_type": "stream",
     "text": [
      "There are 8 actions available for this state.\n",
      "The explaination is based on the result of executing 2 action(s) by the agent.\n",
      "After executing SetGridValueAction{gridBoard=5, x=6, y=7, value=o}, I expect ROUND increase by around 37.5% and Two_Token decrease by around 50.0% in the future state. In the best situation, I also expect SCORE_ADV increase, SCORE increase, Opponent_Two_Token decrease by 20.0%, Opponent_Three_Token increase, HAS_WON increase, FINAL_ORD increase and Four_Token increase. However, I may expect Opponent_One_Token increase, One_Token increase and Three_Token increase in the worst situation.\n"
     ]
    }
   ],
   "source": [
    "df = pd.read_csv(\"Connect4/record_4.csv\", sep='\\t')\n",
    "explanation_by_paths(df)"
   ]
  },
  {
   "cell_type": "code",
   "execution_count": null,
   "id": "9a9f591b",
   "metadata": {},
   "outputs": [],
   "source": []
  }
 ],
 "metadata": {
  "kernelspec": {
   "display_name": "Python 3 (ipykernel)",
   "language": "python",
   "name": "python3"
  },
  "language_info": {
   "codemirror_mode": {
    "name": "ipython",
    "version": 3
   },
   "file_extension": ".py",
   "mimetype": "text/x-python",
   "name": "python",
   "nbconvert_exporter": "python",
   "pygments_lexer": "ipython3",
   "version": "3.10.9"
  },
  "toc": {
   "base_numbering": 1,
   "nav_menu": {},
   "number_sections": true,
   "sideBar": true,
   "skip_h1_title": false,
   "title_cell": "Table of Contents",
   "title_sidebar": "Contents",
   "toc_cell": true,
   "toc_position": {},
   "toc_section_display": true,
   "toc_window_display": false
  }
 },
 "nbformat": 4,
 "nbformat_minor": 5
}
