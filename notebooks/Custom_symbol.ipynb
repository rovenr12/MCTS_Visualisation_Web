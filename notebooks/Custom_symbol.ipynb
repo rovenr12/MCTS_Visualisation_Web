{
 "cells": [
  {
   "cell_type": "markdown",
   "id": "7c430ad6",
   "metadata": {
    "toc": true
   },
   "source": [
    "<h1>Table of Contents<span class=\"tocSkip\"></span></h1>\n",
    "<div class=\"toc\"><ul class=\"toc-item\"></ul></div>"
   ]
  },
  {
   "cell_type": "code",
   "execution_count": 1,
   "id": "6dc9e15e",
   "metadata": {
    "ExecuteTime": {
     "end_time": "2023-03-20T10:12:05.559635Z",
     "start_time": "2023-03-20T10:12:05.191999Z"
    }
   },
   "outputs": [],
   "source": [
    "import pandas as pd"
   ]
  },
  {
   "cell_type": "code",
   "execution_count": 2,
   "id": "04c897d9",
   "metadata": {
    "ExecuteTime": {
     "end_time": "2023-03-20T10:12:25.016369Z",
     "start_time": "2023-03-20T10:12:24.880785Z"
    }
   },
   "outputs": [
    {
     "data": {
      "text/html": [
       "<div>\n",
       "<style scoped>\n",
       "    .dataframe tbody tr th:only-of-type {\n",
       "        vertical-align: middle;\n",
       "    }\n",
       "\n",
       "    .dataframe tbody tr th {\n",
       "        vertical-align: top;\n",
       "    }\n",
       "\n",
       "    .dataframe thead th {\n",
       "        text-align: right;\n",
       "    }\n",
       "</style>\n",
       "<table border=\"1\" class=\"dataframe\">\n",
       "  <thead>\n",
       "    <tr style=\"text-align: right;\">\n",
       "      <th></th>\n",
       "      <th>Depth</th>\n",
       "      <th>Name</th>\n",
       "      <th>Value</th>\n",
       "      <th>Visits</th>\n",
       "      <th>Parent_Name</th>\n",
       "      <th>Game_State</th>\n",
       "      <th>Game_Features</th>\n",
       "      <th>Game_State_Heuristic</th>\n",
       "      <th>Action_Name</th>\n",
       "      <th>Best_Action</th>\n",
       "      <th>Is_Terminal</th>\n",
       "      <th>Is_Win</th>\n",
       "      <th>Is_Lose</th>\n",
       "    </tr>\n",
       "  </thead>\n",
       "  <tbody>\n",
       "    <tr>\n",
       "      <th>0</th>\n",
       "      <td>0</td>\n",
       "      <td>Node_1</td>\n",
       "      <td>1.4200</td>\n",
       "      <td>1685</td>\n",
       "      <td>None</td>\n",
       "      <td>{\"Grid_0_0\":\".\",\"Grid_1_0\":\".\",\"Grid_2_0\":\".\",...</td>\n",
       "      <td>{\"SCORE\":0.0,\"SCORE_ADV\":0.0,\"ORDINAL\":0.5,\"OU...</td>\n",
       "      <td>0.0</td>\n",
       "      <td>None</td>\n",
       "      <td>SetGridValueAction{gridBoard=5, x=0, y=4, valu...</td>\n",
       "      <td>0</td>\n",
       "      <td>0</td>\n",
       "      <td>0</td>\n",
       "    </tr>\n",
       "    <tr>\n",
       "      <th>1</th>\n",
       "      <td>1</td>\n",
       "      <td>Node_2</td>\n",
       "      <td>0.0000</td>\n",
       "      <td>12</td>\n",
       "      <td>Node_1</td>\n",
       "      <td>{\"Grid_0_0\":\".\",\"Grid_1_0\":\".\",\"Grid_2_0\":\".\",...</td>\n",
       "      <td>{\"SCORE\":0.0,\"SCORE_ADV\":0.0,\"ORDINAL\":0.5,\"OU...</td>\n",
       "      <td>0.0</td>\n",
       "      <td>SetGridValueAction{gridBoard=5, x=5, y=6, valu...</td>\n",
       "      <td>SetGridValueAction{gridBoard=5, x=0, y=4, valu...</td>\n",
       "      <td>0</td>\n",
       "      <td>0</td>\n",
       "      <td>0</td>\n",
       "    </tr>\n",
       "    <tr>\n",
       "      <th>2</th>\n",
       "      <td>1</td>\n",
       "      <td>Node_3</td>\n",
       "      <td>-0.0455</td>\n",
       "      <td>11</td>\n",
       "      <td>Node_1</td>\n",
       "      <td>{\"Grid_0_0\":\".\",\"Grid_1_0\":\".\",\"Grid_2_0\":\".\",...</td>\n",
       "      <td>{\"SCORE\":0.0,\"SCORE_ADV\":0.0,\"ORDINAL\":0.5,\"OU...</td>\n",
       "      <td>0.0</td>\n",
       "      <td>SetGridValueAction{gridBoard=5, x=6, y=7, valu...</td>\n",
       "      <td>SetGridValueAction{gridBoard=5, x=0, y=4, valu...</td>\n",
       "      <td>0</td>\n",
       "      <td>0</td>\n",
       "      <td>0</td>\n",
       "    </tr>\n",
       "    <tr>\n",
       "      <th>3</th>\n",
       "      <td>1</td>\n",
       "      <td>Node_4</td>\n",
       "      <td>0.0000</td>\n",
       "      <td>12</td>\n",
       "      <td>Node_1</td>\n",
       "      <td>{\"Grid_0_0\":\".\",\"Grid_1_0\":\".\",\"Grid_2_0\":\".\",...</td>\n",
       "      <td>{\"SCORE\":0.0,\"SCORE_ADV\":0.0,\"ORDINAL\":0.5,\"OU...</td>\n",
       "      <td>0.0</td>\n",
       "      <td>SetGridValueAction{gridBoard=5, x=7, y=7, valu...</td>\n",
       "      <td>SetGridValueAction{gridBoard=5, x=0, y=4, valu...</td>\n",
       "      <td>0</td>\n",
       "      <td>0</td>\n",
       "      <td>0</td>\n",
       "    </tr>\n",
       "    <tr>\n",
       "      <th>4</th>\n",
       "      <td>1</td>\n",
       "      <td>Node_5</td>\n",
       "      <td>-0.0417</td>\n",
       "      <td>12</td>\n",
       "      <td>Node_1</td>\n",
       "      <td>{\"Grid_0_0\":\".\",\"Grid_1_0\":\".\",\"Grid_2_0\":\".\",...</td>\n",
       "      <td>{\"SCORE\":0.0,\"SCORE_ADV\":0.0,\"ORDINAL\":0.5,\"OU...</td>\n",
       "      <td>0.0</td>\n",
       "      <td>SetGridValueAction{gridBoard=5, x=1, y=7, valu...</td>\n",
       "      <td>SetGridValueAction{gridBoard=5, x=0, y=4, valu...</td>\n",
       "      <td>0</td>\n",
       "      <td>0</td>\n",
       "      <td>0</td>\n",
       "    </tr>\n",
       "  </tbody>\n",
       "</table>\n",
       "</div>"
      ],
      "text/plain": [
       "   Depth    Name   Value  Visits Parent_Name  \\\n",
       "0      0  Node_1  1.4200    1685        None   \n",
       "1      1  Node_2  0.0000      12      Node_1   \n",
       "2      1  Node_3 -0.0455      11      Node_1   \n",
       "3      1  Node_4  0.0000      12      Node_1   \n",
       "4      1  Node_5 -0.0417      12      Node_1   \n",
       "\n",
       "                                          Game_State  \\\n",
       "0  {\"Grid_0_0\":\".\",\"Grid_1_0\":\".\",\"Grid_2_0\":\".\",...   \n",
       "1  {\"Grid_0_0\":\".\",\"Grid_1_0\":\".\",\"Grid_2_0\":\".\",...   \n",
       "2  {\"Grid_0_0\":\".\",\"Grid_1_0\":\".\",\"Grid_2_0\":\".\",...   \n",
       "3  {\"Grid_0_0\":\".\",\"Grid_1_0\":\".\",\"Grid_2_0\":\".\",...   \n",
       "4  {\"Grid_0_0\":\".\",\"Grid_1_0\":\".\",\"Grid_2_0\":\".\",...   \n",
       "\n",
       "                                       Game_Features  Game_State_Heuristic  \\\n",
       "0  {\"SCORE\":0.0,\"SCORE_ADV\":0.0,\"ORDINAL\":0.5,\"OU...                   0.0   \n",
       "1  {\"SCORE\":0.0,\"SCORE_ADV\":0.0,\"ORDINAL\":0.5,\"OU...                   0.0   \n",
       "2  {\"SCORE\":0.0,\"SCORE_ADV\":0.0,\"ORDINAL\":0.5,\"OU...                   0.0   \n",
       "3  {\"SCORE\":0.0,\"SCORE_ADV\":0.0,\"ORDINAL\":0.5,\"OU...                   0.0   \n",
       "4  {\"SCORE\":0.0,\"SCORE_ADV\":0.0,\"ORDINAL\":0.5,\"OU...                   0.0   \n",
       "\n",
       "                                         Action_Name  \\\n",
       "0                                               None   \n",
       "1  SetGridValueAction{gridBoard=5, x=5, y=6, valu...   \n",
       "2  SetGridValueAction{gridBoard=5, x=6, y=7, valu...   \n",
       "3  SetGridValueAction{gridBoard=5, x=7, y=7, valu...   \n",
       "4  SetGridValueAction{gridBoard=5, x=1, y=7, valu...   \n",
       "\n",
       "                                         Best_Action  Is_Terminal  Is_Win  \\\n",
       "0  SetGridValueAction{gridBoard=5, x=0, y=4, valu...            0       0   \n",
       "1  SetGridValueAction{gridBoard=5, x=0, y=4, valu...            0       0   \n",
       "2  SetGridValueAction{gridBoard=5, x=0, y=4, valu...            0       0   \n",
       "3  SetGridValueAction{gridBoard=5, x=0, y=4, valu...            0       0   \n",
       "4  SetGridValueAction{gridBoard=5, x=0, y=4, valu...            0       0   \n",
       "\n",
       "   Is_Lose  \n",
       "0        0  \n",
       "1        0  \n",
       "2        0  \n",
       "3        0  \n",
       "4        0  "
      ]
     },
     "execution_count": 2,
     "metadata": {},
     "output_type": "execute_result"
    }
   ],
   "source": [
    "df = pd.read_csv(\"test_01/record_3.csv\", sep='\\t')\n",
    "\n",
    "df.head()"
   ]
  },
  {
   "cell_type": "code",
   "execution_count": 12,
   "id": "1f02866c",
   "metadata": {
    "ExecuteTime": {
     "end_time": "2023-03-20T10:16:32.843196Z",
     "start_time": "2023-03-20T10:16:32.836213Z"
    }
   },
   "outputs": [],
   "source": [
    "def get_binary_features(df):\n",
    "    binary_features = []\n",
    "    for col in df.columns:\n",
    "        if {0, 1} == set(df[col].unique()):\n",
    "            binary_features.append(col)\n",
    "    return binary_features"
   ]
  },
  {
   "cell_type": "code",
   "execution_count": 13,
   "id": "55b18a4b",
   "metadata": {
    "ExecuteTime": {
     "end_time": "2023-03-20T10:16:37.895922Z",
     "start_time": "2023-03-20T10:16:37.882941Z"
    }
   },
   "outputs": [
    {
     "data": {
      "text/plain": [
       "['Is_Terminal', 'Is_Win', 'Is_Lose']"
      ]
     },
     "execution_count": 13,
     "metadata": {},
     "output_type": "execute_result"
    }
   ],
   "source": [
    "get_binary_features(df)"
   ]
  },
  {
   "cell_type": "code",
   "execution_count": 14,
   "id": "e7b14cd1",
   "metadata": {
    "ExecuteTime": {
     "end_time": "2023-03-20T10:21:23.432710Z",
     "start_time": "2023-03-20T10:21:23.424731Z"
    }
   },
   "outputs": [],
   "source": [
    "from plotly.validators.scatter.marker import SymbolValidator"
   ]
  },
  {
   "cell_type": "code",
   "execution_count": 15,
   "id": "472a3ed2",
   "metadata": {
    "ExecuteTime": {
     "end_time": "2023-03-20T10:21:29.967866Z",
     "start_time": "2023-03-20T10:21:29.957373Z"
    }
   },
   "outputs": [
    {
     "data": {
      "text/plain": [
       "[0,\n",
       " '0',\n",
       " 'circle',\n",
       " 100,\n",
       " '100',\n",
       " 'circle-open',\n",
       " 200,\n",
       " '200',\n",
       " 'circle-dot',\n",
       " 300,\n",
       " '300',\n",
       " 'circle-open-dot',\n",
       " 1,\n",
       " '1',\n",
       " 'square',\n",
       " 101,\n",
       " '101',\n",
       " 'square-open',\n",
       " 201,\n",
       " '201',\n",
       " 'square-dot',\n",
       " 301,\n",
       " '301',\n",
       " 'square-open-dot',\n",
       " 2,\n",
       " '2',\n",
       " 'diamond',\n",
       " 102,\n",
       " '102',\n",
       " 'diamond-open',\n",
       " 202,\n",
       " '202',\n",
       " 'diamond-dot',\n",
       " 302,\n",
       " '302',\n",
       " 'diamond-open-dot',\n",
       " 3,\n",
       " '3',\n",
       " 'cross',\n",
       " 103,\n",
       " '103',\n",
       " 'cross-open',\n",
       " 203,\n",
       " '203',\n",
       " 'cross-dot',\n",
       " 303,\n",
       " '303',\n",
       " 'cross-open-dot',\n",
       " 4,\n",
       " '4',\n",
       " 'x',\n",
       " 104,\n",
       " '104',\n",
       " 'x-open',\n",
       " 204,\n",
       " '204',\n",
       " 'x-dot',\n",
       " 304,\n",
       " '304',\n",
       " 'x-open-dot',\n",
       " 5,\n",
       " '5',\n",
       " 'triangle-up',\n",
       " 105,\n",
       " '105',\n",
       " 'triangle-up-open',\n",
       " 205,\n",
       " '205',\n",
       " 'triangle-up-dot',\n",
       " 305,\n",
       " '305',\n",
       " 'triangle-up-open-dot',\n",
       " 6,\n",
       " '6',\n",
       " 'triangle-down',\n",
       " 106,\n",
       " '106',\n",
       " 'triangle-down-open',\n",
       " 206,\n",
       " '206',\n",
       " 'triangle-down-dot',\n",
       " 306,\n",
       " '306',\n",
       " 'triangle-down-open-dot',\n",
       " 7,\n",
       " '7',\n",
       " 'triangle-left',\n",
       " 107,\n",
       " '107',\n",
       " 'triangle-left-open',\n",
       " 207,\n",
       " '207',\n",
       " 'triangle-left-dot',\n",
       " 307,\n",
       " '307',\n",
       " 'triangle-left-open-dot',\n",
       " 8,\n",
       " '8',\n",
       " 'triangle-right',\n",
       " 108,\n",
       " '108',\n",
       " 'triangle-right-open',\n",
       " 208,\n",
       " '208',\n",
       " 'triangle-right-dot',\n",
       " 308,\n",
       " '308',\n",
       " 'triangle-right-open-dot',\n",
       " 9,\n",
       " '9',\n",
       " 'triangle-ne',\n",
       " 109,\n",
       " '109',\n",
       " 'triangle-ne-open',\n",
       " 209,\n",
       " '209',\n",
       " 'triangle-ne-dot',\n",
       " 309,\n",
       " '309',\n",
       " 'triangle-ne-open-dot',\n",
       " 10,\n",
       " '10',\n",
       " 'triangle-se',\n",
       " 110,\n",
       " '110',\n",
       " 'triangle-se-open',\n",
       " 210,\n",
       " '210',\n",
       " 'triangle-se-dot',\n",
       " 310,\n",
       " '310',\n",
       " 'triangle-se-open-dot',\n",
       " 11,\n",
       " '11',\n",
       " 'triangle-sw',\n",
       " 111,\n",
       " '111',\n",
       " 'triangle-sw-open',\n",
       " 211,\n",
       " '211',\n",
       " 'triangle-sw-dot',\n",
       " 311,\n",
       " '311',\n",
       " 'triangle-sw-open-dot',\n",
       " 12,\n",
       " '12',\n",
       " 'triangle-nw',\n",
       " 112,\n",
       " '112',\n",
       " 'triangle-nw-open',\n",
       " 212,\n",
       " '212',\n",
       " 'triangle-nw-dot',\n",
       " 312,\n",
       " '312',\n",
       " 'triangle-nw-open-dot',\n",
       " 13,\n",
       " '13',\n",
       " 'pentagon',\n",
       " 113,\n",
       " '113',\n",
       " 'pentagon-open',\n",
       " 213,\n",
       " '213',\n",
       " 'pentagon-dot',\n",
       " 313,\n",
       " '313',\n",
       " 'pentagon-open-dot',\n",
       " 14,\n",
       " '14',\n",
       " 'hexagon',\n",
       " 114,\n",
       " '114',\n",
       " 'hexagon-open',\n",
       " 214,\n",
       " '214',\n",
       " 'hexagon-dot',\n",
       " 314,\n",
       " '314',\n",
       " 'hexagon-open-dot',\n",
       " 15,\n",
       " '15',\n",
       " 'hexagon2',\n",
       " 115,\n",
       " '115',\n",
       " 'hexagon2-open',\n",
       " 215,\n",
       " '215',\n",
       " 'hexagon2-dot',\n",
       " 315,\n",
       " '315',\n",
       " 'hexagon2-open-dot',\n",
       " 16,\n",
       " '16',\n",
       " 'octagon',\n",
       " 116,\n",
       " '116',\n",
       " 'octagon-open',\n",
       " 216,\n",
       " '216',\n",
       " 'octagon-dot',\n",
       " 316,\n",
       " '316',\n",
       " 'octagon-open-dot',\n",
       " 17,\n",
       " '17',\n",
       " 'star',\n",
       " 117,\n",
       " '117',\n",
       " 'star-open',\n",
       " 217,\n",
       " '217',\n",
       " 'star-dot',\n",
       " 317,\n",
       " '317',\n",
       " 'star-open-dot',\n",
       " 18,\n",
       " '18',\n",
       " 'hexagram',\n",
       " 118,\n",
       " '118',\n",
       " 'hexagram-open',\n",
       " 218,\n",
       " '218',\n",
       " 'hexagram-dot',\n",
       " 318,\n",
       " '318',\n",
       " 'hexagram-open-dot',\n",
       " 19,\n",
       " '19',\n",
       " 'star-triangle-up',\n",
       " 119,\n",
       " '119',\n",
       " 'star-triangle-up-open',\n",
       " 219,\n",
       " '219',\n",
       " 'star-triangle-up-dot',\n",
       " 319,\n",
       " '319',\n",
       " 'star-triangle-up-open-dot',\n",
       " 20,\n",
       " '20',\n",
       " 'star-triangle-down',\n",
       " 120,\n",
       " '120',\n",
       " 'star-triangle-down-open',\n",
       " 220,\n",
       " '220',\n",
       " 'star-triangle-down-dot',\n",
       " 320,\n",
       " '320',\n",
       " 'star-triangle-down-open-dot',\n",
       " 21,\n",
       " '21',\n",
       " 'star-square',\n",
       " 121,\n",
       " '121',\n",
       " 'star-square-open',\n",
       " 221,\n",
       " '221',\n",
       " 'star-square-dot',\n",
       " 321,\n",
       " '321',\n",
       " 'star-square-open-dot',\n",
       " 22,\n",
       " '22',\n",
       " 'star-diamond',\n",
       " 122,\n",
       " '122',\n",
       " 'star-diamond-open',\n",
       " 222,\n",
       " '222',\n",
       " 'star-diamond-dot',\n",
       " 322,\n",
       " '322',\n",
       " 'star-diamond-open-dot',\n",
       " 23,\n",
       " '23',\n",
       " 'diamond-tall',\n",
       " 123,\n",
       " '123',\n",
       " 'diamond-tall-open',\n",
       " 223,\n",
       " '223',\n",
       " 'diamond-tall-dot',\n",
       " 323,\n",
       " '323',\n",
       " 'diamond-tall-open-dot',\n",
       " 24,\n",
       " '24',\n",
       " 'diamond-wide',\n",
       " 124,\n",
       " '124',\n",
       " 'diamond-wide-open',\n",
       " 224,\n",
       " '224',\n",
       " 'diamond-wide-dot',\n",
       " 324,\n",
       " '324',\n",
       " 'diamond-wide-open-dot',\n",
       " 25,\n",
       " '25',\n",
       " 'hourglass',\n",
       " 125,\n",
       " '125',\n",
       " 'hourglass-open',\n",
       " 26,\n",
       " '26',\n",
       " 'bowtie',\n",
       " 126,\n",
       " '126',\n",
       " 'bowtie-open',\n",
       " 27,\n",
       " '27',\n",
       " 'circle-cross',\n",
       " 127,\n",
       " '127',\n",
       " 'circle-cross-open',\n",
       " 28,\n",
       " '28',\n",
       " 'circle-x',\n",
       " 128,\n",
       " '128',\n",
       " 'circle-x-open',\n",
       " 29,\n",
       " '29',\n",
       " 'square-cross',\n",
       " 129,\n",
       " '129',\n",
       " 'square-cross-open',\n",
       " 30,\n",
       " '30',\n",
       " 'square-x',\n",
       " 130,\n",
       " '130',\n",
       " 'square-x-open',\n",
       " 31,\n",
       " '31',\n",
       " 'diamond-cross',\n",
       " 131,\n",
       " '131',\n",
       " 'diamond-cross-open',\n",
       " 32,\n",
       " '32',\n",
       " 'diamond-x',\n",
       " 132,\n",
       " '132',\n",
       " 'diamond-x-open',\n",
       " 33,\n",
       " '33',\n",
       " 'cross-thin',\n",
       " 133,\n",
       " '133',\n",
       " 'cross-thin-open',\n",
       " 34,\n",
       " '34',\n",
       " 'x-thin',\n",
       " 134,\n",
       " '134',\n",
       " 'x-thin-open',\n",
       " 35,\n",
       " '35',\n",
       " 'asterisk',\n",
       " 135,\n",
       " '135',\n",
       " 'asterisk-open',\n",
       " 36,\n",
       " '36',\n",
       " 'hash',\n",
       " 136,\n",
       " '136',\n",
       " 'hash-open',\n",
       " 236,\n",
       " '236',\n",
       " 'hash-dot',\n",
       " 336,\n",
       " '336',\n",
       " 'hash-open-dot',\n",
       " 37,\n",
       " '37',\n",
       " 'y-up',\n",
       " 137,\n",
       " '137',\n",
       " 'y-up-open',\n",
       " 38,\n",
       " '38',\n",
       " 'y-down',\n",
       " 138,\n",
       " '138',\n",
       " 'y-down-open',\n",
       " 39,\n",
       " '39',\n",
       " 'y-left',\n",
       " 139,\n",
       " '139',\n",
       " 'y-left-open',\n",
       " 40,\n",
       " '40',\n",
       " 'y-right',\n",
       " 140,\n",
       " '140',\n",
       " 'y-right-open',\n",
       " 41,\n",
       " '41',\n",
       " 'line-ew',\n",
       " 141,\n",
       " '141',\n",
       " 'line-ew-open',\n",
       " 42,\n",
       " '42',\n",
       " 'line-ns',\n",
       " 142,\n",
       " '142',\n",
       " 'line-ns-open',\n",
       " 43,\n",
       " '43',\n",
       " 'line-ne',\n",
       " 143,\n",
       " '143',\n",
       " 'line-ne-open',\n",
       " 44,\n",
       " '44',\n",
       " 'line-nw',\n",
       " 144,\n",
       " '144',\n",
       " 'line-nw-open',\n",
       " 45,\n",
       " '45',\n",
       " 'arrow-up',\n",
       " 145,\n",
       " '145',\n",
       " 'arrow-up-open',\n",
       " 46,\n",
       " '46',\n",
       " 'arrow-down',\n",
       " 146,\n",
       " '146',\n",
       " 'arrow-down-open',\n",
       " 47,\n",
       " '47',\n",
       " 'arrow-left',\n",
       " 147,\n",
       " '147',\n",
       " 'arrow-left-open',\n",
       " 48,\n",
       " '48',\n",
       " 'arrow-right',\n",
       " 148,\n",
       " '148',\n",
       " 'arrow-right-open',\n",
       " 49,\n",
       " '49',\n",
       " 'arrow-bar-up',\n",
       " 149,\n",
       " '149',\n",
       " 'arrow-bar-up-open',\n",
       " 50,\n",
       " '50',\n",
       " 'arrow-bar-down',\n",
       " 150,\n",
       " '150',\n",
       " 'arrow-bar-down-open',\n",
       " 51,\n",
       " '51',\n",
       " 'arrow-bar-left',\n",
       " 151,\n",
       " '151',\n",
       " 'arrow-bar-left-open',\n",
       " 52,\n",
       " '52',\n",
       " 'arrow-bar-right',\n",
       " 152,\n",
       " '152',\n",
       " 'arrow-bar-right-open']"
      ]
     },
     "execution_count": 15,
     "metadata": {},
     "output_type": "execute_result"
    }
   ],
   "source": [
    "raw_symbols = SymbolValidator().values\n",
    "\n",
    "raw_symbols"
   ]
  },
  {
   "cell_type": "code",
   "execution_count": 30,
   "id": "2883e3e9",
   "metadata": {
    "ExecuteTime": {
     "end_time": "2023-03-20T10:42:43.907358Z",
     "start_time": "2023-03-20T10:42:43.870907Z"
    }
   },
   "outputs": [
    {
     "data": {
      "application/vnd.plotly.v1+json": {
       "config": {
        "plotlyServerURL": "https://plot.ly"
       },
       "data": [
        {
         "hovertemplate": "name: %{y}%{x}<br>number: %{marker.symbol}<extra></extra>",
         "marker": {
          "color": "lightskyblue",
          "line": {
           "color": "midnightblue",
           "width": 2
          },
          "size": 15,
          "symbol": [
           0,
           100,
           200,
           300,
           1,
           101,
           201,
           301,
           2,
           102,
           202,
           302,
           3,
           103,
           203,
           303,
           4,
           104,
           204,
           304,
           5,
           105,
           205,
           305,
           6,
           106,
           206,
           306,
           7,
           107,
           207,
           307,
           8,
           108,
           208,
           308,
           9,
           109,
           209,
           309,
           10,
           110,
           210,
           310,
           11,
           111,
           211,
           311,
           12,
           112,
           212,
           312,
           13,
           113,
           213,
           313,
           14,
           114,
           214,
           314,
           15,
           115,
           215,
           315,
           16,
           116,
           216,
           316,
           17,
           117,
           217,
           317,
           18,
           118,
           218,
           318,
           19,
           119,
           219,
           319,
           20,
           120,
           220,
           320,
           21,
           121,
           221,
           321,
           22,
           122,
           222,
           322,
           23,
           123,
           223,
           323,
           24,
           124,
           224,
           324,
           25,
           125,
           26,
           126,
           27,
           127,
           28,
           128,
           29,
           129,
           30,
           130,
           31,
           131,
           32,
           132,
           33,
           133,
           34,
           134,
           35,
           135,
           36,
           136,
           236,
           336,
           37,
           137,
           38,
           138,
           39,
           139,
           40,
           140,
           41,
           141,
           42,
           142,
           43,
           143,
           44,
           144,
           45,
           145,
           46,
           146,
           47,
           147,
           48,
           148,
           49,
           149,
           50,
           150,
           51,
           151,
           52,
           152
          ]
         },
         "mode": "markers",
         "type": "scatter",
         "x": [
          "",
          "-open",
          "-dot",
          "-open-dot",
          "",
          "-open",
          "-dot",
          "-open-dot",
          "",
          "-open",
          "-dot",
          "-open-dot",
          "",
          "-open",
          "-dot",
          "-open-dot",
          "",
          "-open",
          "-dot",
          "-open-dot",
          "",
          "-open",
          "-dot",
          "-open-dot",
          "",
          "-open",
          "-dot",
          "-open-dot",
          "",
          "-open",
          "-dot",
          "-open-dot",
          "",
          "-open",
          "-dot",
          "-open-dot",
          "",
          "-open",
          "-dot",
          "-open-dot",
          "",
          "-open",
          "-dot",
          "-open-dot",
          "",
          "-open",
          "-dot",
          "-open-dot",
          "",
          "-open",
          "-dot",
          "-open-dot",
          "",
          "-open",
          "-dot",
          "-open-dot",
          "",
          "-open",
          "-dot",
          "-open-dot",
          "",
          "-open",
          "-dot",
          "-open-dot",
          "",
          "-open",
          "-dot",
          "-open-dot",
          "",
          "-open",
          "-dot",
          "-open-dot",
          "",
          "-open",
          "-dot",
          "-open-dot",
          "",
          "-open",
          "-dot",
          "-open-dot",
          "",
          "-open",
          "-dot",
          "-open-dot",
          "",
          "-open",
          "-dot",
          "-open-dot",
          "",
          "-open",
          "-dot",
          "-open-dot",
          "",
          "-open",
          "-dot",
          "-open-dot",
          "",
          "-open",
          "-dot",
          "-open-dot",
          "",
          "-open",
          "",
          "-open",
          "",
          "-open",
          "",
          "-open",
          "",
          "-open",
          "",
          "-open",
          "",
          "-open",
          "",
          "-open",
          "",
          "-open",
          "",
          "-open",
          "",
          "-open",
          "",
          "-open",
          "-dot",
          "-open-dot",
          "",
          "-open",
          "",
          "-open",
          "",
          "-open",
          "",
          "-open",
          "",
          "-open",
          "",
          "-open",
          "",
          "-open",
          "",
          "-open",
          "",
          "-open",
          "",
          "-open",
          "",
          "-open",
          "",
          "-open",
          "",
          "-open",
          "",
          "-open",
          "",
          "-open",
          "",
          "-open"
         ],
         "y": [
          "circle",
          "circle",
          "circle",
          "circle",
          "square",
          "square",
          "square",
          "square",
          "diamond",
          "diamond",
          "diamond",
          "diamond",
          "cross",
          "cross",
          "cross",
          "cross",
          "x",
          "x",
          "x",
          "x",
          "triangle-up",
          "triangle-up",
          "triangle-up",
          "triangle-up",
          "triangle-down",
          "triangle-down",
          "triangle-down",
          "triangle-down",
          "triangle-left",
          "triangle-left",
          "triangle-left",
          "triangle-left",
          "triangle-right",
          "triangle-right",
          "triangle-right",
          "triangle-right",
          "triangle-ne",
          "triangle-ne",
          "triangle-ne",
          "triangle-ne",
          "triangle-se",
          "triangle-se",
          "triangle-se",
          "triangle-se",
          "triangle-sw",
          "triangle-sw",
          "triangle-sw",
          "triangle-sw",
          "triangle-nw",
          "triangle-nw",
          "triangle-nw",
          "triangle-nw",
          "pentagon",
          "pentagon",
          "pentagon",
          "pentagon",
          "hexagon",
          "hexagon",
          "hexagon",
          "hexagon",
          "hexagon2",
          "hexagon2",
          "hexagon2",
          "hexagon2",
          "octagon",
          "octagon",
          "octagon",
          "octagon",
          "star",
          "star",
          "star",
          "star",
          "hexagram",
          "hexagram",
          "hexagram",
          "hexagram",
          "star-triangle-up",
          "star-triangle-up",
          "star-triangle-up",
          "star-triangle-up",
          "star-triangle-down",
          "star-triangle-down",
          "star-triangle-down",
          "star-triangle-down",
          "star-square",
          "star-square",
          "star-square",
          "star-square",
          "star-diamond",
          "star-diamond",
          "star-diamond",
          "star-diamond",
          "diamond-tall",
          "diamond-tall",
          "diamond-tall",
          "diamond-tall",
          "diamond-wide",
          "diamond-wide",
          "diamond-wide",
          "diamond-wide",
          "hourglass",
          "hourglass",
          "bowtie",
          "bowtie",
          "circle-cross",
          "circle-cross",
          "circle-x",
          "circle-x",
          "square-cross",
          "square-cross",
          "square-x",
          "square-x",
          "diamond-cross",
          "diamond-cross",
          "diamond-x",
          "diamond-x",
          "cross-thin",
          "cross-thin",
          "x-thin",
          "x-thin",
          "asterisk",
          "asterisk",
          "hash",
          "hash",
          "hash",
          "hash",
          "y-up",
          "y-up",
          "y-down",
          "y-down",
          "y-left",
          "y-left",
          "y-right",
          "y-right",
          "line-ew",
          "line-ew",
          "line-ns",
          "line-ns",
          "line-ne",
          "line-ne",
          "line-nw",
          "line-nw",
          "arrow-up",
          "arrow-up",
          "arrow-down",
          "arrow-down",
          "arrow-left",
          "arrow-left",
          "arrow-right",
          "arrow-right",
          "arrow-bar-up",
          "arrow-bar-up",
          "arrow-bar-down",
          "arrow-bar-down",
          "arrow-bar-left",
          "arrow-bar-left",
          "arrow-bar-right",
          "arrow-bar-right"
         ]
        }
       ],
       "layout": {
        "height": 1400,
        "margin": {
         "b": 0,
         "r": 0
        },
        "plot_bgcolor": "white",
        "template": {
         "data": {
          "bar": [
           {
            "error_x": {
             "color": "#2a3f5f"
            },
            "error_y": {
             "color": "#2a3f5f"
            },
            "marker": {
             "line": {
              "color": "#E5ECF6",
              "width": 0.5
             },
             "pattern": {
              "fillmode": "overlay",
              "size": 10,
              "solidity": 0.2
             }
            },
            "type": "bar"
           }
          ],
          "barpolar": [
           {
            "marker": {
             "line": {
              "color": "#E5ECF6",
              "width": 0.5
             },
             "pattern": {
              "fillmode": "overlay",
              "size": 10,
              "solidity": 0.2
             }
            },
            "type": "barpolar"
           }
          ],
          "carpet": [
           {
            "aaxis": {
             "endlinecolor": "#2a3f5f",
             "gridcolor": "white",
             "linecolor": "white",
             "minorgridcolor": "white",
             "startlinecolor": "#2a3f5f"
            },
            "baxis": {
             "endlinecolor": "#2a3f5f",
             "gridcolor": "white",
             "linecolor": "white",
             "minorgridcolor": "white",
             "startlinecolor": "#2a3f5f"
            },
            "type": "carpet"
           }
          ],
          "choropleth": [
           {
            "colorbar": {
             "outlinewidth": 0,
             "ticks": ""
            },
            "type": "choropleth"
           }
          ],
          "contour": [
           {
            "colorbar": {
             "outlinewidth": 0,
             "ticks": ""
            },
            "colorscale": [
             [
              0,
              "#0d0887"
             ],
             [
              0.1111111111111111,
              "#46039f"
             ],
             [
              0.2222222222222222,
              "#7201a8"
             ],
             [
              0.3333333333333333,
              "#9c179e"
             ],
             [
              0.4444444444444444,
              "#bd3786"
             ],
             [
              0.5555555555555556,
              "#d8576b"
             ],
             [
              0.6666666666666666,
              "#ed7953"
             ],
             [
              0.7777777777777778,
              "#fb9f3a"
             ],
             [
              0.8888888888888888,
              "#fdca26"
             ],
             [
              1,
              "#f0f921"
             ]
            ],
            "type": "contour"
           }
          ],
          "contourcarpet": [
           {
            "colorbar": {
             "outlinewidth": 0,
             "ticks": ""
            },
            "type": "contourcarpet"
           }
          ],
          "heatmap": [
           {
            "colorbar": {
             "outlinewidth": 0,
             "ticks": ""
            },
            "colorscale": [
             [
              0,
              "#0d0887"
             ],
             [
              0.1111111111111111,
              "#46039f"
             ],
             [
              0.2222222222222222,
              "#7201a8"
             ],
             [
              0.3333333333333333,
              "#9c179e"
             ],
             [
              0.4444444444444444,
              "#bd3786"
             ],
             [
              0.5555555555555556,
              "#d8576b"
             ],
             [
              0.6666666666666666,
              "#ed7953"
             ],
             [
              0.7777777777777778,
              "#fb9f3a"
             ],
             [
              0.8888888888888888,
              "#fdca26"
             ],
             [
              1,
              "#f0f921"
             ]
            ],
            "type": "heatmap"
           }
          ],
          "heatmapgl": [
           {
            "colorbar": {
             "outlinewidth": 0,
             "ticks": ""
            },
            "colorscale": [
             [
              0,
              "#0d0887"
             ],
             [
              0.1111111111111111,
              "#46039f"
             ],
             [
              0.2222222222222222,
              "#7201a8"
             ],
             [
              0.3333333333333333,
              "#9c179e"
             ],
             [
              0.4444444444444444,
              "#bd3786"
             ],
             [
              0.5555555555555556,
              "#d8576b"
             ],
             [
              0.6666666666666666,
              "#ed7953"
             ],
             [
              0.7777777777777778,
              "#fb9f3a"
             ],
             [
              0.8888888888888888,
              "#fdca26"
             ],
             [
              1,
              "#f0f921"
             ]
            ],
            "type": "heatmapgl"
           }
          ],
          "histogram": [
           {
            "marker": {
             "pattern": {
              "fillmode": "overlay",
              "size": 10,
              "solidity": 0.2
             }
            },
            "type": "histogram"
           }
          ],
          "histogram2d": [
           {
            "colorbar": {
             "outlinewidth": 0,
             "ticks": ""
            },
            "colorscale": [
             [
              0,
              "#0d0887"
             ],
             [
              0.1111111111111111,
              "#46039f"
             ],
             [
              0.2222222222222222,
              "#7201a8"
             ],
             [
              0.3333333333333333,
              "#9c179e"
             ],
             [
              0.4444444444444444,
              "#bd3786"
             ],
             [
              0.5555555555555556,
              "#d8576b"
             ],
             [
              0.6666666666666666,
              "#ed7953"
             ],
             [
              0.7777777777777778,
              "#fb9f3a"
             ],
             [
              0.8888888888888888,
              "#fdca26"
             ],
             [
              1,
              "#f0f921"
             ]
            ],
            "type": "histogram2d"
           }
          ],
          "histogram2dcontour": [
           {
            "colorbar": {
             "outlinewidth": 0,
             "ticks": ""
            },
            "colorscale": [
             [
              0,
              "#0d0887"
             ],
             [
              0.1111111111111111,
              "#46039f"
             ],
             [
              0.2222222222222222,
              "#7201a8"
             ],
             [
              0.3333333333333333,
              "#9c179e"
             ],
             [
              0.4444444444444444,
              "#bd3786"
             ],
             [
              0.5555555555555556,
              "#d8576b"
             ],
             [
              0.6666666666666666,
              "#ed7953"
             ],
             [
              0.7777777777777778,
              "#fb9f3a"
             ],
             [
              0.8888888888888888,
              "#fdca26"
             ],
             [
              1,
              "#f0f921"
             ]
            ],
            "type": "histogram2dcontour"
           }
          ],
          "mesh3d": [
           {
            "colorbar": {
             "outlinewidth": 0,
             "ticks": ""
            },
            "type": "mesh3d"
           }
          ],
          "parcoords": [
           {
            "line": {
             "colorbar": {
              "outlinewidth": 0,
              "ticks": ""
             }
            },
            "type": "parcoords"
           }
          ],
          "pie": [
           {
            "automargin": true,
            "type": "pie"
           }
          ],
          "scatter": [
           {
            "fillpattern": {
             "fillmode": "overlay",
             "size": 10,
             "solidity": 0.2
            },
            "type": "scatter"
           }
          ],
          "scatter3d": [
           {
            "line": {
             "colorbar": {
              "outlinewidth": 0,
              "ticks": ""
             }
            },
            "marker": {
             "colorbar": {
              "outlinewidth": 0,
              "ticks": ""
             }
            },
            "type": "scatter3d"
           }
          ],
          "scattercarpet": [
           {
            "marker": {
             "colorbar": {
              "outlinewidth": 0,
              "ticks": ""
             }
            },
            "type": "scattercarpet"
           }
          ],
          "scattergeo": [
           {
            "marker": {
             "colorbar": {
              "outlinewidth": 0,
              "ticks": ""
             }
            },
            "type": "scattergeo"
           }
          ],
          "scattergl": [
           {
            "marker": {
             "colorbar": {
              "outlinewidth": 0,
              "ticks": ""
             }
            },
            "type": "scattergl"
           }
          ],
          "scattermapbox": [
           {
            "marker": {
             "colorbar": {
              "outlinewidth": 0,
              "ticks": ""
             }
            },
            "type": "scattermapbox"
           }
          ],
          "scatterpolar": [
           {
            "marker": {
             "colorbar": {
              "outlinewidth": 0,
              "ticks": ""
             }
            },
            "type": "scatterpolar"
           }
          ],
          "scatterpolargl": [
           {
            "marker": {
             "colorbar": {
              "outlinewidth": 0,
              "ticks": ""
             }
            },
            "type": "scatterpolargl"
           }
          ],
          "scatterternary": [
           {
            "marker": {
             "colorbar": {
              "outlinewidth": 0,
              "ticks": ""
             }
            },
            "type": "scatterternary"
           }
          ],
          "surface": [
           {
            "colorbar": {
             "outlinewidth": 0,
             "ticks": ""
            },
            "colorscale": [
             [
              0,
              "#0d0887"
             ],
             [
              0.1111111111111111,
              "#46039f"
             ],
             [
              0.2222222222222222,
              "#7201a8"
             ],
             [
              0.3333333333333333,
              "#9c179e"
             ],
             [
              0.4444444444444444,
              "#bd3786"
             ],
             [
              0.5555555555555556,
              "#d8576b"
             ],
             [
              0.6666666666666666,
              "#ed7953"
             ],
             [
              0.7777777777777778,
              "#fb9f3a"
             ],
             [
              0.8888888888888888,
              "#fdca26"
             ],
             [
              1,
              "#f0f921"
             ]
            ],
            "type": "surface"
           }
          ],
          "table": [
           {
            "cells": {
             "fill": {
              "color": "#EBF0F8"
             },
             "line": {
              "color": "white"
             }
            },
            "header": {
             "fill": {
              "color": "#C8D4E3"
             },
             "line": {
              "color": "white"
             }
            },
            "type": "table"
           }
          ]
         },
         "layout": {
          "annotationdefaults": {
           "arrowcolor": "#2a3f5f",
           "arrowhead": 0,
           "arrowwidth": 1
          },
          "autotypenumbers": "strict",
          "coloraxis": {
           "colorbar": {
            "outlinewidth": 0,
            "ticks": ""
           }
          },
          "colorscale": {
           "diverging": [
            [
             0,
             "#8e0152"
            ],
            [
             0.1,
             "#c51b7d"
            ],
            [
             0.2,
             "#de77ae"
            ],
            [
             0.3,
             "#f1b6da"
            ],
            [
             0.4,
             "#fde0ef"
            ],
            [
             0.5,
             "#f7f7f7"
            ],
            [
             0.6,
             "#e6f5d0"
            ],
            [
             0.7,
             "#b8e186"
            ],
            [
             0.8,
             "#7fbc41"
            ],
            [
             0.9,
             "#4d9221"
            ],
            [
             1,
             "#276419"
            ]
           ],
           "sequential": [
            [
             0,
             "#0d0887"
            ],
            [
             0.1111111111111111,
             "#46039f"
            ],
            [
             0.2222222222222222,
             "#7201a8"
            ],
            [
             0.3333333333333333,
             "#9c179e"
            ],
            [
             0.4444444444444444,
             "#bd3786"
            ],
            [
             0.5555555555555556,
             "#d8576b"
            ],
            [
             0.6666666666666666,
             "#ed7953"
            ],
            [
             0.7777777777777778,
             "#fb9f3a"
            ],
            [
             0.8888888888888888,
             "#fdca26"
            ],
            [
             1,
             "#f0f921"
            ]
           ],
           "sequentialminus": [
            [
             0,
             "#0d0887"
            ],
            [
             0.1111111111111111,
             "#46039f"
            ],
            [
             0.2222222222222222,
             "#7201a8"
            ],
            [
             0.3333333333333333,
             "#9c179e"
            ],
            [
             0.4444444444444444,
             "#bd3786"
            ],
            [
             0.5555555555555556,
             "#d8576b"
            ],
            [
             0.6666666666666666,
             "#ed7953"
            ],
            [
             0.7777777777777778,
             "#fb9f3a"
            ],
            [
             0.8888888888888888,
             "#fdca26"
            ],
            [
             1,
             "#f0f921"
            ]
           ]
          },
          "colorway": [
           "#636efa",
           "#EF553B",
           "#00cc96",
           "#ab63fa",
           "#FFA15A",
           "#19d3f3",
           "#FF6692",
           "#B6E880",
           "#FF97FF",
           "#FECB52"
          ],
          "font": {
           "color": "#2a3f5f"
          },
          "geo": {
           "bgcolor": "white",
           "lakecolor": "white",
           "landcolor": "#E5ECF6",
           "showlakes": true,
           "showland": true,
           "subunitcolor": "white"
          },
          "hoverlabel": {
           "align": "left"
          },
          "hovermode": "closest",
          "mapbox": {
           "style": "light"
          },
          "paper_bgcolor": "white",
          "plot_bgcolor": "#E5ECF6",
          "polar": {
           "angularaxis": {
            "gridcolor": "white",
            "linecolor": "white",
            "ticks": ""
           },
           "bgcolor": "#E5ECF6",
           "radialaxis": {
            "gridcolor": "white",
            "linecolor": "white",
            "ticks": ""
           }
          },
          "scene": {
           "xaxis": {
            "backgroundcolor": "#E5ECF6",
            "gridcolor": "white",
            "gridwidth": 2,
            "linecolor": "white",
            "showbackground": true,
            "ticks": "",
            "zerolinecolor": "white"
           },
           "yaxis": {
            "backgroundcolor": "#E5ECF6",
            "gridcolor": "white",
            "gridwidth": 2,
            "linecolor": "white",
            "showbackground": true,
            "ticks": "",
            "zerolinecolor": "white"
           },
           "zaxis": {
            "backgroundcolor": "#E5ECF6",
            "gridcolor": "white",
            "gridwidth": 2,
            "linecolor": "white",
            "showbackground": true,
            "ticks": "",
            "zerolinecolor": "white"
           }
          },
          "shapedefaults": {
           "line": {
            "color": "#2a3f5f"
           }
          },
          "ternary": {
           "aaxis": {
            "gridcolor": "white",
            "linecolor": "white",
            "ticks": ""
           },
           "baxis": {
            "gridcolor": "white",
            "linecolor": "white",
            "ticks": ""
           },
           "bgcolor": "#E5ECF6",
           "caxis": {
            "gridcolor": "white",
            "linecolor": "white",
            "ticks": ""
           }
          },
          "title": {
           "x": 0.05
          },
          "xaxis": {
           "automargin": true,
           "gridcolor": "white",
           "linecolor": "white",
           "ticks": "",
           "title": {
            "standoff": 15
           },
           "zerolinecolor": "white",
           "zerolinewidth": 2
          },
          "yaxis": {
           "automargin": true,
           "gridcolor": "white",
           "linecolor": "white",
           "ticks": "",
           "title": {
            "standoff": 15
           },
           "zerolinecolor": "white",
           "zerolinewidth": 2
          }
         }
        },
        "title": {
         "text": "Mouse over symbols for name & number!"
        },
        "width": 400,
        "xaxis": {
         "range": [
          -1,
          4
         ],
         "showgrid": false,
         "side": "top"
        },
        "yaxis": {
         "range": [
          53,
          -1
         ],
         "showgrid": false
        }
       }
      },
      "text/html": [
       "<div>                            <div id=\"49a31505-6a13-4b12-bcae-c3fcf2480a7d\" class=\"plotly-graph-div\" style=\"height:1400px; width:400px;\"></div>            <script type=\"text/javascript\">                require([\"plotly\"], function(Plotly) {                    window.PLOTLYENV=window.PLOTLYENV || {};                                    if (document.getElementById(\"49a31505-6a13-4b12-bcae-c3fcf2480a7d\")) {                    Plotly.newPlot(                        \"49a31505-6a13-4b12-bcae-c3fcf2480a7d\",                        [{\"hovertemplate\":\"name: %{y}%{x}<br>number: %{marker.symbol}<extra></extra>\",\"marker\":{\"color\":\"lightskyblue\",\"line\":{\"color\":\"midnightblue\",\"width\":2},\"size\":15,\"symbol\":[0,100,200,300,1,101,201,301,2,102,202,302,3,103,203,303,4,104,204,304,5,105,205,305,6,106,206,306,7,107,207,307,8,108,208,308,9,109,209,309,10,110,210,310,11,111,211,311,12,112,212,312,13,113,213,313,14,114,214,314,15,115,215,315,16,116,216,316,17,117,217,317,18,118,218,318,19,119,219,319,20,120,220,320,21,121,221,321,22,122,222,322,23,123,223,323,24,124,224,324,25,125,26,126,27,127,28,128,29,129,30,130,31,131,32,132,33,133,34,134,35,135,36,136,236,336,37,137,38,138,39,139,40,140,41,141,42,142,43,143,44,144,45,145,46,146,47,147,48,148,49,149,50,150,51,151,52,152]},\"mode\":\"markers\",\"x\":[\"\",\"-open\",\"-dot\",\"-open-dot\",\"\",\"-open\",\"-dot\",\"-open-dot\",\"\",\"-open\",\"-dot\",\"-open-dot\",\"\",\"-open\",\"-dot\",\"-open-dot\",\"\",\"-open\",\"-dot\",\"-open-dot\",\"\",\"-open\",\"-dot\",\"-open-dot\",\"\",\"-open\",\"-dot\",\"-open-dot\",\"\",\"-open\",\"-dot\",\"-open-dot\",\"\",\"-open\",\"-dot\",\"-open-dot\",\"\",\"-open\",\"-dot\",\"-open-dot\",\"\",\"-open\",\"-dot\",\"-open-dot\",\"\",\"-open\",\"-dot\",\"-open-dot\",\"\",\"-open\",\"-dot\",\"-open-dot\",\"\",\"-open\",\"-dot\",\"-open-dot\",\"\",\"-open\",\"-dot\",\"-open-dot\",\"\",\"-open\",\"-dot\",\"-open-dot\",\"\",\"-open\",\"-dot\",\"-open-dot\",\"\",\"-open\",\"-dot\",\"-open-dot\",\"\",\"-open\",\"-dot\",\"-open-dot\",\"\",\"-open\",\"-dot\",\"-open-dot\",\"\",\"-open\",\"-dot\",\"-open-dot\",\"\",\"-open\",\"-dot\",\"-open-dot\",\"\",\"-open\",\"-dot\",\"-open-dot\",\"\",\"-open\",\"-dot\",\"-open-dot\",\"\",\"-open\",\"-dot\",\"-open-dot\",\"\",\"-open\",\"\",\"-open\",\"\",\"-open\",\"\",\"-open\",\"\",\"-open\",\"\",\"-open\",\"\",\"-open\",\"\",\"-open\",\"\",\"-open\",\"\",\"-open\",\"\",\"-open\",\"\",\"-open\",\"-dot\",\"-open-dot\",\"\",\"-open\",\"\",\"-open\",\"\",\"-open\",\"\",\"-open\",\"\",\"-open\",\"\",\"-open\",\"\",\"-open\",\"\",\"-open\",\"\",\"-open\",\"\",\"-open\",\"\",\"-open\",\"\",\"-open\",\"\",\"-open\",\"\",\"-open\",\"\",\"-open\",\"\",\"-open\"],\"y\":[\"circle\",\"circle\",\"circle\",\"circle\",\"square\",\"square\",\"square\",\"square\",\"diamond\",\"diamond\",\"diamond\",\"diamond\",\"cross\",\"cross\",\"cross\",\"cross\",\"x\",\"x\",\"x\",\"x\",\"triangle-up\",\"triangle-up\",\"triangle-up\",\"triangle-up\",\"triangle-down\",\"triangle-down\",\"triangle-down\",\"triangle-down\",\"triangle-left\",\"triangle-left\",\"triangle-left\",\"triangle-left\",\"triangle-right\",\"triangle-right\",\"triangle-right\",\"triangle-right\",\"triangle-ne\",\"triangle-ne\",\"triangle-ne\",\"triangle-ne\",\"triangle-se\",\"triangle-se\",\"triangle-se\",\"triangle-se\",\"triangle-sw\",\"triangle-sw\",\"triangle-sw\",\"triangle-sw\",\"triangle-nw\",\"triangle-nw\",\"triangle-nw\",\"triangle-nw\",\"pentagon\",\"pentagon\",\"pentagon\",\"pentagon\",\"hexagon\",\"hexagon\",\"hexagon\",\"hexagon\",\"hexagon2\",\"hexagon2\",\"hexagon2\",\"hexagon2\",\"octagon\",\"octagon\",\"octagon\",\"octagon\",\"star\",\"star\",\"star\",\"star\",\"hexagram\",\"hexagram\",\"hexagram\",\"hexagram\",\"star-triangle-up\",\"star-triangle-up\",\"star-triangle-up\",\"star-triangle-up\",\"star-triangle-down\",\"star-triangle-down\",\"star-triangle-down\",\"star-triangle-down\",\"star-square\",\"star-square\",\"star-square\",\"star-square\",\"star-diamond\",\"star-diamond\",\"star-diamond\",\"star-diamond\",\"diamond-tall\",\"diamond-tall\",\"diamond-tall\",\"diamond-tall\",\"diamond-wide\",\"diamond-wide\",\"diamond-wide\",\"diamond-wide\",\"hourglass\",\"hourglass\",\"bowtie\",\"bowtie\",\"circle-cross\",\"circle-cross\",\"circle-x\",\"circle-x\",\"square-cross\",\"square-cross\",\"square-x\",\"square-x\",\"diamond-cross\",\"diamond-cross\",\"diamond-x\",\"diamond-x\",\"cross-thin\",\"cross-thin\",\"x-thin\",\"x-thin\",\"asterisk\",\"asterisk\",\"hash\",\"hash\",\"hash\",\"hash\",\"y-up\",\"y-up\",\"y-down\",\"y-down\",\"y-left\",\"y-left\",\"y-right\",\"y-right\",\"line-ew\",\"line-ew\",\"line-ns\",\"line-ns\",\"line-ne\",\"line-ne\",\"line-nw\",\"line-nw\",\"arrow-up\",\"arrow-up\",\"arrow-down\",\"arrow-down\",\"arrow-left\",\"arrow-left\",\"arrow-right\",\"arrow-right\",\"arrow-bar-up\",\"arrow-bar-up\",\"arrow-bar-down\",\"arrow-bar-down\",\"arrow-bar-left\",\"arrow-bar-left\",\"arrow-bar-right\",\"arrow-bar-right\"],\"type\":\"scatter\"}],                        {\"template\":{\"data\":{\"histogram2dcontour\":[{\"type\":\"histogram2dcontour\",\"colorbar\":{\"outlinewidth\":0,\"ticks\":\"\"},\"colorscale\":[[0.0,\"#0d0887\"],[0.1111111111111111,\"#46039f\"],[0.2222222222222222,\"#7201a8\"],[0.3333333333333333,\"#9c179e\"],[0.4444444444444444,\"#bd3786\"],[0.5555555555555556,\"#d8576b\"],[0.6666666666666666,\"#ed7953\"],[0.7777777777777778,\"#fb9f3a\"],[0.8888888888888888,\"#fdca26\"],[1.0,\"#f0f921\"]]}],\"choropleth\":[{\"type\":\"choropleth\",\"colorbar\":{\"outlinewidth\":0,\"ticks\":\"\"}}],\"histogram2d\":[{\"type\":\"histogram2d\",\"colorbar\":{\"outlinewidth\":0,\"ticks\":\"\"},\"colorscale\":[[0.0,\"#0d0887\"],[0.1111111111111111,\"#46039f\"],[0.2222222222222222,\"#7201a8\"],[0.3333333333333333,\"#9c179e\"],[0.4444444444444444,\"#bd3786\"],[0.5555555555555556,\"#d8576b\"],[0.6666666666666666,\"#ed7953\"],[0.7777777777777778,\"#fb9f3a\"],[0.8888888888888888,\"#fdca26\"],[1.0,\"#f0f921\"]]}],\"heatmap\":[{\"type\":\"heatmap\",\"colorbar\":{\"outlinewidth\":0,\"ticks\":\"\"},\"colorscale\":[[0.0,\"#0d0887\"],[0.1111111111111111,\"#46039f\"],[0.2222222222222222,\"#7201a8\"],[0.3333333333333333,\"#9c179e\"],[0.4444444444444444,\"#bd3786\"],[0.5555555555555556,\"#d8576b\"],[0.6666666666666666,\"#ed7953\"],[0.7777777777777778,\"#fb9f3a\"],[0.8888888888888888,\"#fdca26\"],[1.0,\"#f0f921\"]]}],\"heatmapgl\":[{\"type\":\"heatmapgl\",\"colorbar\":{\"outlinewidth\":0,\"ticks\":\"\"},\"colorscale\":[[0.0,\"#0d0887\"],[0.1111111111111111,\"#46039f\"],[0.2222222222222222,\"#7201a8\"],[0.3333333333333333,\"#9c179e\"],[0.4444444444444444,\"#bd3786\"],[0.5555555555555556,\"#d8576b\"],[0.6666666666666666,\"#ed7953\"],[0.7777777777777778,\"#fb9f3a\"],[0.8888888888888888,\"#fdca26\"],[1.0,\"#f0f921\"]]}],\"contourcarpet\":[{\"type\":\"contourcarpet\",\"colorbar\":{\"outlinewidth\":0,\"ticks\":\"\"}}],\"contour\":[{\"type\":\"contour\",\"colorbar\":{\"outlinewidth\":0,\"ticks\":\"\"},\"colorscale\":[[0.0,\"#0d0887\"],[0.1111111111111111,\"#46039f\"],[0.2222222222222222,\"#7201a8\"],[0.3333333333333333,\"#9c179e\"],[0.4444444444444444,\"#bd3786\"],[0.5555555555555556,\"#d8576b\"],[0.6666666666666666,\"#ed7953\"],[0.7777777777777778,\"#fb9f3a\"],[0.8888888888888888,\"#fdca26\"],[1.0,\"#f0f921\"]]}],\"surface\":[{\"type\":\"surface\",\"colorbar\":{\"outlinewidth\":0,\"ticks\":\"\"},\"colorscale\":[[0.0,\"#0d0887\"],[0.1111111111111111,\"#46039f\"],[0.2222222222222222,\"#7201a8\"],[0.3333333333333333,\"#9c179e\"],[0.4444444444444444,\"#bd3786\"],[0.5555555555555556,\"#d8576b\"],[0.6666666666666666,\"#ed7953\"],[0.7777777777777778,\"#fb9f3a\"],[0.8888888888888888,\"#fdca26\"],[1.0,\"#f0f921\"]]}],\"mesh3d\":[{\"type\":\"mesh3d\",\"colorbar\":{\"outlinewidth\":0,\"ticks\":\"\"}}],\"scatter\":[{\"fillpattern\":{\"fillmode\":\"overlay\",\"size\":10,\"solidity\":0.2},\"type\":\"scatter\"}],\"parcoords\":[{\"type\":\"parcoords\",\"line\":{\"colorbar\":{\"outlinewidth\":0,\"ticks\":\"\"}}}],\"scatterpolargl\":[{\"type\":\"scatterpolargl\",\"marker\":{\"colorbar\":{\"outlinewidth\":0,\"ticks\":\"\"}}}],\"bar\":[{\"error_x\":{\"color\":\"#2a3f5f\"},\"error_y\":{\"color\":\"#2a3f5f\"},\"marker\":{\"line\":{\"color\":\"#E5ECF6\",\"width\":0.5},\"pattern\":{\"fillmode\":\"overlay\",\"size\":10,\"solidity\":0.2}},\"type\":\"bar\"}],\"scattergeo\":[{\"type\":\"scattergeo\",\"marker\":{\"colorbar\":{\"outlinewidth\":0,\"ticks\":\"\"}}}],\"scatterpolar\":[{\"type\":\"scatterpolar\",\"marker\":{\"colorbar\":{\"outlinewidth\":0,\"ticks\":\"\"}}}],\"histogram\":[{\"marker\":{\"pattern\":{\"fillmode\":\"overlay\",\"size\":10,\"solidity\":0.2}},\"type\":\"histogram\"}],\"scattergl\":[{\"type\":\"scattergl\",\"marker\":{\"colorbar\":{\"outlinewidth\":0,\"ticks\":\"\"}}}],\"scatter3d\":[{\"type\":\"scatter3d\",\"line\":{\"colorbar\":{\"outlinewidth\":0,\"ticks\":\"\"}},\"marker\":{\"colorbar\":{\"outlinewidth\":0,\"ticks\":\"\"}}}],\"scattermapbox\":[{\"type\":\"scattermapbox\",\"marker\":{\"colorbar\":{\"outlinewidth\":0,\"ticks\":\"\"}}}],\"scatterternary\":[{\"type\":\"scatterternary\",\"marker\":{\"colorbar\":{\"outlinewidth\":0,\"ticks\":\"\"}}}],\"scattercarpet\":[{\"type\":\"scattercarpet\",\"marker\":{\"colorbar\":{\"outlinewidth\":0,\"ticks\":\"\"}}}],\"carpet\":[{\"aaxis\":{\"endlinecolor\":\"#2a3f5f\",\"gridcolor\":\"white\",\"linecolor\":\"white\",\"minorgridcolor\":\"white\",\"startlinecolor\":\"#2a3f5f\"},\"baxis\":{\"endlinecolor\":\"#2a3f5f\",\"gridcolor\":\"white\",\"linecolor\":\"white\",\"minorgridcolor\":\"white\",\"startlinecolor\":\"#2a3f5f\"},\"type\":\"carpet\"}],\"table\":[{\"cells\":{\"fill\":{\"color\":\"#EBF0F8\"},\"line\":{\"color\":\"white\"}},\"header\":{\"fill\":{\"color\":\"#C8D4E3\"},\"line\":{\"color\":\"white\"}},\"type\":\"table\"}],\"barpolar\":[{\"marker\":{\"line\":{\"color\":\"#E5ECF6\",\"width\":0.5},\"pattern\":{\"fillmode\":\"overlay\",\"size\":10,\"solidity\":0.2}},\"type\":\"barpolar\"}],\"pie\":[{\"automargin\":true,\"type\":\"pie\"}]},\"layout\":{\"autotypenumbers\":\"strict\",\"colorway\":[\"#636efa\",\"#EF553B\",\"#00cc96\",\"#ab63fa\",\"#FFA15A\",\"#19d3f3\",\"#FF6692\",\"#B6E880\",\"#FF97FF\",\"#FECB52\"],\"font\":{\"color\":\"#2a3f5f\"},\"hovermode\":\"closest\",\"hoverlabel\":{\"align\":\"left\"},\"paper_bgcolor\":\"white\",\"plot_bgcolor\":\"#E5ECF6\",\"polar\":{\"bgcolor\":\"#E5ECF6\",\"angularaxis\":{\"gridcolor\":\"white\",\"linecolor\":\"white\",\"ticks\":\"\"},\"radialaxis\":{\"gridcolor\":\"white\",\"linecolor\":\"white\",\"ticks\":\"\"}},\"ternary\":{\"bgcolor\":\"#E5ECF6\",\"aaxis\":{\"gridcolor\":\"white\",\"linecolor\":\"white\",\"ticks\":\"\"},\"baxis\":{\"gridcolor\":\"white\",\"linecolor\":\"white\",\"ticks\":\"\"},\"caxis\":{\"gridcolor\":\"white\",\"linecolor\":\"white\",\"ticks\":\"\"}},\"coloraxis\":{\"colorbar\":{\"outlinewidth\":0,\"ticks\":\"\"}},\"colorscale\":{\"sequential\":[[0.0,\"#0d0887\"],[0.1111111111111111,\"#46039f\"],[0.2222222222222222,\"#7201a8\"],[0.3333333333333333,\"#9c179e\"],[0.4444444444444444,\"#bd3786\"],[0.5555555555555556,\"#d8576b\"],[0.6666666666666666,\"#ed7953\"],[0.7777777777777778,\"#fb9f3a\"],[0.8888888888888888,\"#fdca26\"],[1.0,\"#f0f921\"]],\"sequentialminus\":[[0.0,\"#0d0887\"],[0.1111111111111111,\"#46039f\"],[0.2222222222222222,\"#7201a8\"],[0.3333333333333333,\"#9c179e\"],[0.4444444444444444,\"#bd3786\"],[0.5555555555555556,\"#d8576b\"],[0.6666666666666666,\"#ed7953\"],[0.7777777777777778,\"#fb9f3a\"],[0.8888888888888888,\"#fdca26\"],[1.0,\"#f0f921\"]],\"diverging\":[[0,\"#8e0152\"],[0.1,\"#c51b7d\"],[0.2,\"#de77ae\"],[0.3,\"#f1b6da\"],[0.4,\"#fde0ef\"],[0.5,\"#f7f7f7\"],[0.6,\"#e6f5d0\"],[0.7,\"#b8e186\"],[0.8,\"#7fbc41\"],[0.9,\"#4d9221\"],[1,\"#276419\"]]},\"xaxis\":{\"gridcolor\":\"white\",\"linecolor\":\"white\",\"ticks\":\"\",\"title\":{\"standoff\":15},\"zerolinecolor\":\"white\",\"automargin\":true,\"zerolinewidth\":2},\"yaxis\":{\"gridcolor\":\"white\",\"linecolor\":\"white\",\"ticks\":\"\",\"title\":{\"standoff\":15},\"zerolinecolor\":\"white\",\"automargin\":true,\"zerolinewidth\":2},\"scene\":{\"xaxis\":{\"backgroundcolor\":\"#E5ECF6\",\"gridcolor\":\"white\",\"linecolor\":\"white\",\"showbackground\":true,\"ticks\":\"\",\"zerolinecolor\":\"white\",\"gridwidth\":2},\"yaxis\":{\"backgroundcolor\":\"#E5ECF6\",\"gridcolor\":\"white\",\"linecolor\":\"white\",\"showbackground\":true,\"ticks\":\"\",\"zerolinecolor\":\"white\",\"gridwidth\":2},\"zaxis\":{\"backgroundcolor\":\"#E5ECF6\",\"gridcolor\":\"white\",\"linecolor\":\"white\",\"showbackground\":true,\"ticks\":\"\",\"zerolinecolor\":\"white\",\"gridwidth\":2}},\"shapedefaults\":{\"line\":{\"color\":\"#2a3f5f\"}},\"annotationdefaults\":{\"arrowcolor\":\"#2a3f5f\",\"arrowhead\":0,\"arrowwidth\":1},\"geo\":{\"bgcolor\":\"white\",\"landcolor\":\"#E5ECF6\",\"subunitcolor\":\"white\",\"showland\":true,\"showlakes\":true,\"lakecolor\":\"white\"},\"title\":{\"x\":0.05},\"mapbox\":{\"style\":\"light\"}}},\"xaxis\":{\"range\":[-1,4],\"side\":\"top\",\"showgrid\":false},\"yaxis\":{\"range\":[53,-1],\"showgrid\":false},\"margin\":{\"b\":0,\"r\":0},\"title\":{\"text\":\"Mouse over symbols for name & number!\"},\"height\":1400,\"width\":400,\"plot_bgcolor\":\"white\"},                        {\"responsive\": true}                    ).then(function(){\n",
       "                            \n",
       "var gd = document.getElementById('49a31505-6a13-4b12-bcae-c3fcf2480a7d');\n",
       "var x = new MutationObserver(function (mutations, observer) {{\n",
       "        var display = window.getComputedStyle(gd).display;\n",
       "        if (!display || display === 'none') {{\n",
       "            console.log([gd, 'removed!']);\n",
       "            Plotly.purge(gd);\n",
       "            observer.disconnect();\n",
       "        }}\n",
       "}});\n",
       "\n",
       "// Listen for the removal of the full notebook cells\n",
       "var notebookContainer = gd.closest('#notebook-container');\n",
       "if (notebookContainer) {{\n",
       "    x.observe(notebookContainer, {childList: true});\n",
       "}}\n",
       "\n",
       "// Listen for the clearing of the current output cell\n",
       "var outputEl = gd.closest('.output');\n",
       "if (outputEl) {{\n",
       "    x.observe(outputEl, {childList: true});\n",
       "}}\n",
       "\n",
       "                        })                };                });            </script>        </div>"
      ]
     },
     "metadata": {},
     "output_type": "display_data"
    }
   ],
   "source": [
    "import plotly.graph_objects as go\n",
    "from plotly.validators.scatter.marker import SymbolValidator\n",
    "\n",
    "raw_symbols = SymbolValidator().values\n",
    "namestems = []\n",
    "namevariants = []\n",
    "symbols = []\n",
    "for i in range(0,len(raw_symbols),3):\n",
    "    name = raw_symbols[i+2]\n",
    "    symbols.append(raw_symbols[i])\n",
    "    namestems.append(name.replace(\"-open\", \"\").replace(\"-dot\", \"\"))\n",
    "    namevariants.append(name[len(namestems[-1]):])\n",
    "\n",
    "fig = go.Figure(go.Scatter(mode=\"markers\", x=namevariants, y=namestems, marker_symbol=symbols,\n",
    "                           marker_line_color=\"midnightblue\", marker_color=\"lightskyblue\",\n",
    "                           marker_line_width=2, marker_size=15,\n",
    "                           hovertemplate=\"name: %{y}%{x}<br>number: %{marker.symbol}<extra></extra>\", ))\n",
    "fig.update_layout(title=\"Mouse over symbols for name & number!\",\n",
    "                  xaxis_range=[-1,4], yaxis_range=[len(set(namestems)),-1],\n",
    "                  margin=dict(b=0,r=0), xaxis_side=\"top\", height=1400, width=400)\n",
    "\n",
    "fig.update_layout(xaxis=dict(showgrid=False),\n",
    "              yaxis=dict(showgrid=False),\n",
    ")\n",
    "\n",
    "fig.update_layout(\n",
    "    plot_bgcolor='white'\n",
    ")\n",
    "\n",
    "fig.show()\n",
    "\n",
    "\n"
   ]
  },
  {
   "cell_type": "code",
   "execution_count": 85,
   "id": "bb1131f8",
   "metadata": {
    "ExecuteTime": {
     "end_time": "2023-03-20T11:11:19.830551Z",
     "start_time": "2023-03-20T11:11:19.821059Z"
    }
   },
   "outputs": [
    {
     "data": {
      "text/plain": [
       "['circle',\n",
       " 'circle-open',\n",
       " 'circledot',\n",
       " 'circle-open-dot',\n",
       " 'square',\n",
       " 'square-open',\n",
       " 'squaredot',\n",
       " 'square-open-dot',\n",
       " 'diamond',\n",
       " 'diamond-open',\n",
       " 'diamonddot',\n",
       " 'diamond-open-dot',\n",
       " 'x',\n",
       " 'x-open',\n",
       " 'xdot',\n",
       " 'x-open-dot',\n",
       " 'star',\n",
       " 'star-open',\n",
       " 'stardot',\n",
       " 'star-open-dot',\n",
       " 'diamond-wide',\n",
       " 'diamond-wide-open',\n",
       " 'diamond-widedot',\n",
       " 'diamond-wide-open-dot']"
      ]
     },
     "execution_count": 85,
     "metadata": {},
     "output_type": "execute_result"
    }
   ],
   "source": [
    "custom_symbols_list = []\n",
    "for i in ['circle', 'square', 'diamond', 'x', 'star']:\n",
    "    for j in ['', '-open', '-dot', '-open-dot']:\n",
    "        custom_symbols_list.append(i + j)\n",
    "        \n",
    "custom_symbols_list"
   ]
  },
  {
   "cell_type": "code",
   "execution_count": null,
   "id": "f1eff671",
   "metadata": {},
   "outputs": [],
   "source": []
  }
 ],
 "metadata": {
  "kernelspec": {
   "display_name": "Python 3 (ipykernel)",
   "language": "python",
   "name": "python3"
  },
  "language_info": {
   "codemirror_mode": {
    "name": "ipython",
    "version": 3
   },
   "file_extension": ".py",
   "mimetype": "text/x-python",
   "name": "python",
   "nbconvert_exporter": "python",
   "pygments_lexer": "ipython3",
   "version": "3.10.9"
  },
  "toc": {
   "base_numbering": 1,
   "nav_menu": {},
   "number_sections": true,
   "sideBar": true,
   "skip_h1_title": false,
   "title_cell": "Table of Contents",
   "title_sidebar": "Contents",
   "toc_cell": true,
   "toc_position": {},
   "toc_section_display": true,
   "toc_window_display": false
  }
 },
 "nbformat": 4,
 "nbformat_minor": 5
}
