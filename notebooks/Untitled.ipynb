{
 "cells": [
  {
   "cell_type": "markdown",
   "id": "b4cdfa64",
   "metadata": {
    "toc": true
   },
   "source": [
    "<h1>Table of Contents<span class=\"tocSkip\"></span></h1>\n",
    "<div class=\"toc\"><ul class=\"toc-item\"></ul></div>"
   ]
  },
  {
   "cell_type": "code",
   "execution_count": 1,
   "id": "afaab0b0",
   "metadata": {
    "ExecuteTime": {
     "end_time": "2023-03-15T13:46:35.790600Z",
     "start_time": "2023-03-15T13:46:35.467371Z"
    }
   },
   "outputs": [],
   "source": [
    "import pandas as pd\n",
    "import json"
   ]
  },
  {
   "cell_type": "code",
   "execution_count": 2,
   "id": "c5119119",
   "metadata": {
    "ExecuteTime": {
     "end_time": "2023-03-15T13:46:35.806067Z",
     "start_time": "2023-03-15T13:46:35.791599Z"
    }
   },
   "outputs": [],
   "source": [
    "test_data = pd.read_csv(\"test_01/record_3.csv\", sep=\"\\t\").iloc[5]"
   ]
  },
  {
   "cell_type": "code",
   "execution_count": 3,
   "id": "ce126b27",
   "metadata": {
    "ExecuteTime": {
     "end_time": "2023-03-15T13:46:35.821054Z",
     "start_time": "2023-03-15T13:46:35.807064Z"
    }
   },
   "outputs": [],
   "source": [
    "def show_grid_and_features(test_data):\n",
    "    game_states = json.loads(test_data.Game_State)\n",
    "    grids = [[\" \" for i in range(8)] for j in range(8)]\n",
    "    for key, value in game_states.items():\n",
    "        _, y, x = key.split(\"_\")\n",
    "        grids[int(x)][int(y)] = value\n",
    "        \n",
    "    print(\"\\n\".join([\"\".join(i) for i in grids]))\n",
    "    print(test_data.Game_Features)"
   ]
  },
  {
   "cell_type": "code",
   "execution_count": 4,
   "id": "14ec7469",
   "metadata": {
    "ExecuteTime": {
     "end_time": "2023-03-15T13:46:35.836533Z",
     "start_time": "2023-03-15T13:46:35.822051Z"
    }
   },
   "outputs": [
    {
     "name": "stdout",
     "output_type": "stream",
     "text": [
      "........\n",
      "........\n",
      "........\n",
      "........\n",
      "........\n",
      "........\n",
      "........\n",
      "xxxxo.oo\n",
      "{\"SCORE\":1.0,\"SCORE_ADV\":4.0,\"ORDINAL\":0.5,\"OUR_TURN\":1.0,\"HAS_WON\":1.0,\"FINAL_ORD\":0.5,\"ROUND\":0.03,\"One_Token\":0.0,\"Opponent_One_Token\":1.0,\"Two_Token\":0.0,\"Opponent_Two_Token\":1.0,\"Three_Token\":0.0,\"Opponent_Three_Token\":1.0,\"Four_Token\":1.0,\"Opponent_Four_Token\":0.0}\n"
     ]
    }
   ],
   "source": [
    "show_grid_and_features(pd.read_csv(\"test_01/record_3.csv\", sep=\"\\t\").iloc[5])"
   ]
  },
  {
   "cell_type": "code",
   "execution_count": null,
   "id": "3eb1a6ea",
   "metadata": {},
   "outputs": [],
   "source": [
    "# Should the emeny has one token?"
   ]
  },
  {
   "cell_type": "code",
   "execution_count": 5,
   "id": "1528ad38",
   "metadata": {
    "ExecuteTime": {
     "end_time": "2023-03-15T13:46:35.852516Z",
     "start_time": "2023-03-15T13:46:35.837531Z"
    }
   },
   "outputs": [
    {
     "name": "stdout",
     "output_type": "stream",
     "text": [
      "........\n",
      "........\n",
      "........\n",
      "........\n",
      "........\n",
      "....o...\n",
      "..x.x..o\n",
      ".xxxo.oo\n",
      "{\"SCORE\":0.0,\"SCORE_ADV\":0.0,\"ORDINAL\":0.5,\"OUR_TURN\":1.0,\"HAS_WON\":0.0,\"FINAL_ORD\":0.0,\"ROUND\":0.05,\"One_Token\":1.0,\"Opponent_One_Token\":2.0,\"Two_Token\":5.0,\"Opponent_Two_Token\":5.0,\"Three_Token\":1.0,\"Opponent_Three_Token\":1.0,\"Four_Token\":0.0,\"Opponent_Four_Token\":0.0}\n"
     ]
    }
   ],
   "source": [
    "show_grid_and_features(pd.read_csv(\"test_01/record_3.csv\", sep=\"\\t\").iloc[10])"
   ]
  },
  {
   "cell_type": "code",
   "execution_count": 6,
   "id": "d0eb1aeb",
   "metadata": {
    "ExecuteTime": {
     "end_time": "2023-03-15T13:46:35.868549Z",
     "start_time": "2023-03-15T13:46:35.853514Z"
    }
   },
   "outputs": [
    {
     "name": "stdout",
     "output_type": "stream",
     "text": [
      "........\n",
      "........\n",
      "........\n",
      "........\n",
      "....x...\n",
      "....o...\n",
      "....x...\n",
      "oxxxo.oo\n",
      "{\"SCORE\":0.0,\"SCORE_ADV\":0.0,\"ORDINAL\":0.5,\"OUR_TURN\":1.0,\"HAS_WON\":0.0,\"FINAL_ORD\":0.0,\"ROUND\":0.05,\"One_Token\":2.0,\"Opponent_One_Token\":3.0,\"Two_Token\":2.0,\"Opponent_Two_Token\":3.0,\"Three_Token\":1.0,\"Opponent_Three_Token\":1.0,\"Four_Token\":0.0,\"Opponent_Four_Token\":0.0}\n"
     ]
    }
   ],
   "source": [
    "show_grid_and_features(pd.read_csv(\"test_01/record_3.csv\", sep=\"\\t\").iloc[15])"
   ]
  },
  {
   "cell_type": "code",
   "execution_count": 7,
   "id": "b732aee6",
   "metadata": {
    "ExecuteTime": {
     "end_time": "2023-03-15T13:46:35.883561Z",
     "start_time": "2023-03-15T13:46:35.869549Z"
    }
   },
   "outputs": [],
   "source": [
    "# One token definition -> 8 or 4 neighbours"
   ]
  },
  {
   "cell_type": "code",
   "execution_count": 8,
   "id": "58738980",
   "metadata": {
    "ExecuteTime": {
     "end_time": "2023-03-15T13:46:35.898543Z",
     "start_time": "2023-03-15T13:46:35.884558Z"
    }
   },
   "outputs": [
    {
     "name": "stdout",
     "output_type": "stream",
     "text": [
      "........\n",
      "........\n",
      "........\n",
      "........\n",
      "........\n",
      "........\n",
      "x...x...\n",
      "oxx.ooo.\n",
      "{\"SCORE\":0.0,\"SCORE_ADV\":0.0,\"ORDINAL\":0.5,\"OUR_TURN\":1.0,\"HAS_WON\":0.0,\"FINAL_ORD\":0.0,\"ROUND\":0.04,\"One_Token\":2.0,\"Opponent_One_Token\":1.0,\"Two_Token\":2.0,\"Opponent_Two_Token\":0.0,\"Three_Token\":0.0,\"Opponent_Three_Token\":1.0,\"Four_Token\":0.0,\"Opponent_Four_Token\":0.0}\n"
     ]
    }
   ],
   "source": [
    "show_grid_and_features(pd.read_csv(\"test_01/record_2.csv\", sep=\"\\t\").iloc[10])"
   ]
  },
  {
   "cell_type": "code",
   "execution_count": null,
   "id": "08d987f1",
   "metadata": {},
   "outputs": [],
   "source": []
  }
 ],
 "metadata": {
  "kernelspec": {
   "display_name": "Python 3 (ipykernel)",
   "language": "python",
   "name": "python3"
  },
  "language_info": {
   "codemirror_mode": {
    "name": "ipython",
    "version": 3
   },
   "file_extension": ".py",
   "mimetype": "text/x-python",
   "name": "python",
   "nbconvert_exporter": "python",
   "pygments_lexer": "ipython3",
   "version": "3.10.9"
  },
  "toc": {
   "base_numbering": 1,
   "nav_menu": {},
   "number_sections": true,
   "sideBar": true,
   "skip_h1_title": false,
   "title_cell": "Table of Contents",
   "title_sidebar": "Contents",
   "toc_cell": true,
   "toc_position": {},
   "toc_section_display": true,
   "toc_window_display": false
  }
 },
 "nbformat": 4,
 "nbformat_minor": 5
}
