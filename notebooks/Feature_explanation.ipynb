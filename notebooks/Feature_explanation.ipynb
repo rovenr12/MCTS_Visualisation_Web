{
 "cells": [
  {
   "cell_type": "code",
   "execution_count": 1,
   "id": "01e4a686",
   "metadata": {},
   "outputs": [],
   "source": [
    "import math\n",
    "import pandas as pd\n",
    "import json"
   ]
  },
  {
   "cell_type": "code",
   "execution_count": 2,
   "id": "885dcd16",
   "metadata": {},
   "outputs": [],
   "source": [
    "def get_children_in_depth(df, depth, key, children_in_depth_dict):\n",
    "    if not children_in_depth_dict[key][depth]:\n",
    "        return depth - 1\n",
    "\n",
    "    children_from_current_depth_list = []\n",
    "    for children in children_in_depth_dict[key][depth]:\n",
    "        children_from_current_depth_list += list(df[df['Parent_Name'] == children]['Name'].values)\n",
    "\n",
    "    children_in_depth_dict[key][depth + 1] = children_from_current_depth_list\n",
    "    return get_children_in_depth(df, depth + 1, key, children_in_depth_dict)"
   ]
  },
  {
   "cell_type": "code",
   "execution_count": null,
   "id": "f279ec9e",
   "metadata": {},
   "outputs": [],
   "source": []
  }
 ],
 "metadata": {
  "kernelspec": {
   "display_name": "Python 3 (ipykernel)",
   "language": "python",
   "name": "python3"
  },
  "language_info": {
   "codemirror_mode": {
    "name": "ipython",
    "version": 3
   },
   "file_extension": ".py",
   "mimetype": "text/x-python",
   "name": "python",
   "nbconvert_exporter": "python",
   "pygments_lexer": "ipython3",
   "version": "3.8.15"
  }
 },
 "nbformat": 4,
 "nbformat_minor": 5
}
