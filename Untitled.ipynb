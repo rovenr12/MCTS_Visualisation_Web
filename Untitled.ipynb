{
 "cells": [
  {
   "cell_type": "markdown",
   "id": "27cd6022",
   "metadata": {
    "toc": true
   },
   "source": [
    "<h1>Table of Contents<span class=\"tocSkip\"></span></h1>\n",
    "<div class=\"toc\"><ul class=\"toc-item\"></ul></div>"
   ]
  },
  {
   "cell_type": "code",
   "execution_count": 6,
   "id": "b0f340e4",
   "metadata": {
    "ExecuteTime": {
     "end_time": "2023-02-08T13:10:19.475875Z",
     "start_time": "2023-02-08T13:10:19.462584Z"
    }
   },
   "outputs": [],
   "source": [
    "import math\n",
    "import json\n",
    "import os\n",
    "import pandas as pd"
   ]
  },
  {
   "cell_type": "code",
   "execution_count": 7,
   "id": "2f3fe1ba",
   "metadata": {
    "ExecuteTime": {
     "end_time": "2023-02-08T13:10:19.865783Z",
     "start_time": "2023-02-08T13:10:19.849306Z"
    }
   },
   "outputs": [],
   "source": [
    "class State:\n",
    "    def __init__(self, features_dict):\n",
    "        self.features_dict = features_dict\n",
    "        \n",
    "    def distance(self, features):\n",
    "        distance = 0\n",
    "        for key, feature in self.features_dict.items():\n",
    "            distance += (features[key] - feature) ** 2\n",
    "            \n",
    "        return math.sqrt(distance)\n",
    "    \n",
    "    def feature_difference(self, features):\n",
    "        difference_dict = {}\n",
    "        for key, feature in self.feautres_dict.items():\n",
    "            difference_dict[key] = feature - features[key]\n",
    "            \n",
    "        return difference_dict\n",
    "        \n",
    "    def __eq__(self, other):\n",
    "        if isinstance(other, self.__class__):\n",
    "            return self.features_dict == other.features_dict\n",
    "        else:\n",
    "            return False"
   ]
  },
  {
   "cell_type": "code",
   "execution_count": 8,
   "id": "8c034d16",
   "metadata": {
    "ExecuteTime": {
     "end_time": "2023-02-08T13:10:21.034244Z",
     "start_time": "2023-02-08T13:10:21.018737Z"
    }
   },
   "outputs": [],
   "source": [
    "def get_transitions(filename, sep='\\t', col='Game_Features'):\n",
    "    state_dict = {}\n",
    "    transitions = []\n",
    "    df = pd.read_csv(filename, sep=sep)\n",
    "    features = json.loads(df.iloc[0][col]).keys()\n",
    "\n",
    "    for _, row in df.iterrows():\n",
    "        if row['Name'] in state_dict:\n",
    "            parent_state = state_dict[row['Name']]\n",
    "        else:\n",
    "            parents_features = json.loads(row[col])\n",
    "            parent_state = State(parents_features)\n",
    "            state_dict[row['Name']] = parent_state\n",
    "        \n",
    "        children = df[df['Parent_Name'] == row['Name']]\n",
    "        \n",
    "        for _, child in children.iterrows():\n",
    "            if child['Name'] in state_dict:\n",
    "                child_state = state_dict[child['Name']]\n",
    "            else:\n",
    "                child_features = json.loads(child[col])\n",
    "                child_state = State(child_features)\n",
    "                state_dict[child['Name']] = child_state\n",
    "            child_action = child['Action_Name']\n",
    "            transitions.append((parent_state, child_action, child_state))\n",
    "        \n",
    "    return transitions"
   ]
  },
  {
   "cell_type": "code",
   "execution_count": 9,
   "id": "5254acf3",
   "metadata": {
    "ExecuteTime": {
     "end_time": "2023-02-08T13:10:22.483537Z",
     "start_time": "2023-02-08T13:10:22.464534Z"
    }
   },
   "outputs": [
    {
     "data": {
      "text/plain": [
       "{'SCORE': 0.0,\n",
       " 'SCORE_ADV': 0.0,\n",
       " 'ORDINAL': 0.5,\n",
       " 'OUR_TURN': 1.0,\n",
       " 'HAS_WON': 0.0,\n",
       " 'FINAL_ORD': 0.0,\n",
       " 'ROUND': 0.0,\n",
       " 'NO_BOXES': 35.0,\n",
       " 'ONE_BOXES': 0.0,\n",
       " 'TWO_BOXES': 0.0,\n",
       " 'THREE_BOXES': 0.0,\n",
       " 'OPPONENTS_FILLED_BOXES': 0.0,\n",
       " 'OWNED_FILLED_BOXES': 0.0}"
      ]
     },
     "execution_count": 9,
     "metadata": {},
     "output_type": "execute_result"
    }
   ],
   "source": [
    "get_transitions(f'DotsAndBoxes/{os.listdir(\"DotsAndBoxes\")[0]}')[0][0].features_dict"
   ]
  },
  {
   "cell_type": "code",
   "execution_count": 10,
   "id": "a08ce765",
   "metadata": {
    "ExecuteTime": {
     "end_time": "2023-02-08T13:14:26.186087Z",
     "start_time": "2023-02-08T13:10:30.208143Z"
    },
    "scrolled": true
   },
   "outputs": [
    {
     "data": {
      "text/plain": [
       "480733"
      ]
     },
     "execution_count": 10,
     "metadata": {},
     "output_type": "execute_result"
    }
   ],
   "source": [
    "transitions = []\n",
    "\n",
    "for i in os.listdir(\"DotsAndBoxes\"):\n",
    "    if i.split(\".\")[-1] != 'csv':\n",
    "        continue\n",
    "    transitions.extend(get_transitions(f\"DotsAndBoxes/{i}\", col='Game_State'))\n",
    "    \n",
    "len(transitions)"
   ]
  },
  {
   "cell_type": "code",
   "execution_count": 16,
   "id": "f20397f7",
   "metadata": {
    "ExecuteTime": {
     "end_time": "2023-02-08T13:22:31.387484Z",
     "start_time": "2023-02-08T13:21:59.818123Z"
    }
   },
   "outputs": [
    {
     "data": {
      "text/html": [
       "<div>\n",
       "<style scoped>\n",
       "    .dataframe tbody tr th:only-of-type {\n",
       "        vertical-align: middle;\n",
       "    }\n",
       "\n",
       "    .dataframe tbody tr th {\n",
       "        vertical-align: top;\n",
       "    }\n",
       "\n",
       "    .dataframe thead th {\n",
       "        text-align: right;\n",
       "    }\n",
       "</style>\n",
       "<table border=\"1\" class=\"dataframe\">\n",
       "  <thead>\n",
       "    <tr style=\"text-align: right;\">\n",
       "      <th></th>\n",
       "      <th>state_0</th>\n",
       "      <th>action</th>\n",
       "      <th>state_1</th>\n",
       "    </tr>\n",
       "  </thead>\n",
       "  <tbody>\n",
       "    <tr>\n",
       "      <th>0</th>\n",
       "      <td>{\"Edge_Owner_6061\": -1, \"Edge_Owner_6263\": -1,...</td>\n",
       "      <td>(0,3) -&gt; (0,4)</td>\n",
       "      <td>{\"Edge_Owner_6061\": -1, \"Edge_Owner_6263\": -1,...</td>\n",
       "    </tr>\n",
       "    <tr>\n",
       "      <th>1</th>\n",
       "      <td>{\"Edge_Owner_6061\": -1, \"Edge_Owner_6263\": -1,...</td>\n",
       "      <td>(1,0) -&gt; (1,1)</td>\n",
       "      <td>{\"Edge_Owner_6061\": -1, \"Edge_Owner_6263\": -1,...</td>\n",
       "    </tr>\n",
       "    <tr>\n",
       "      <th>2</th>\n",
       "      <td>{\"Edge_Owner_6061\": -1, \"Edge_Owner_6263\": -1,...</td>\n",
       "      <td>(2,1) -&gt; (2,2)</td>\n",
       "      <td>{\"Edge_Owner_6061\": -1, \"Edge_Owner_6263\": -1,...</td>\n",
       "    </tr>\n",
       "    <tr>\n",
       "      <th>3</th>\n",
       "      <td>{\"Edge_Owner_6061\": -1, \"Edge_Owner_6263\": -1,...</td>\n",
       "      <td>(3,3) -&gt; (4,3)</td>\n",
       "      <td>{\"Edge_Owner_6061\": -1, \"Edge_Owner_6263\": -1,...</td>\n",
       "    </tr>\n",
       "    <tr>\n",
       "      <th>4</th>\n",
       "      <td>{\"Edge_Owner_6061\": -1, \"Edge_Owner_6263\": -1,...</td>\n",
       "      <td>(3,5) -&gt; (4,5)</td>\n",
       "      <td>{\"Edge_Owner_6061\": -1, \"Edge_Owner_6263\": -1,...</td>\n",
       "    </tr>\n",
       "  </tbody>\n",
       "</table>\n",
       "</div>"
      ],
      "text/plain": [
       "                                             state_0          action  \\\n",
       "0  {\"Edge_Owner_6061\": -1, \"Edge_Owner_6263\": -1,...  (0,3) -> (0,4)   \n",
       "1  {\"Edge_Owner_6061\": -1, \"Edge_Owner_6263\": -1,...  (1,0) -> (1,1)   \n",
       "2  {\"Edge_Owner_6061\": -1, \"Edge_Owner_6263\": -1,...  (2,1) -> (2,2)   \n",
       "3  {\"Edge_Owner_6061\": -1, \"Edge_Owner_6263\": -1,...  (3,3) -> (4,3)   \n",
       "4  {\"Edge_Owner_6061\": -1, \"Edge_Owner_6263\": -1,...  (3,5) -> (4,5)   \n",
       "\n",
       "                                             state_1  \n",
       "0  {\"Edge_Owner_6061\": -1, \"Edge_Owner_6263\": -1,...  \n",
       "1  {\"Edge_Owner_6061\": -1, \"Edge_Owner_6263\": -1,...  \n",
       "2  {\"Edge_Owner_6061\": -1, \"Edge_Owner_6263\": -1,...  \n",
       "3  {\"Edge_Owner_6061\": -1, \"Edge_Owner_6263\": -1,...  \n",
       "4  {\"Edge_Owner_6061\": -1, \"Edge_Owner_6263\": -1,...  "
      ]
     },
     "execution_count": 16,
     "metadata": {},
     "output_type": "execute_result"
    }
   ],
   "source": [
    "df_dict = {\"state_0\": [], \"action\": [], \"state_1\": []}\n",
    "\n",
    "for state_0, action, state_1 in transitions:\n",
    "    df_dict['state_0'].append(json.dumps(state_0.features_dict))\n",
    "    df_dict['action'].append(action)\n",
    "    df_dict['state_1'].append(json.dumps(state_1.features_dict))\n",
    "    \n",
    "transitions_df = pd.DataFrame.from_dict(df_dict)\n",
    "transitions_df.to_csv(\"db_game_state_transition.csv\")\n",
    "transitions_df.head()"
   ]
  },
  {
   "cell_type": "code",
   "execution_count": 11,
   "id": "cb782383",
   "metadata": {},
   "outputs": [],
   "source": [
    "class Node:\n",
    "    def __init__(self, state):\n",
    "        self.representation = state\n",
    "        self.states = [state]\n",
    "        \n",
    "    def add_state(self, state):\n",
    "        self.states.append(state)\n",
    "        \n",
    "    def __eq__(self, other):\n",
    "        if isinstance(other, self.__class__):\n",
    "            return self.representation == other.representation\n",
    "        else:\n",
    "            return False\n",
    "        \n",
    "class Edge:\n",
    "    def __init__(self, node_from, node_to):\n",
    "        self.node_from = node_from\n",
    "        self.node_to = node_to\n",
    "        \n",
    "    def __eq__(self, other):\n",
    "        if isinstance(other, self.__class__):\n",
    "            return self.node_from == other.node_from and self.node_to == other.node_to\n",
    "        else:\n",
    "            return False\n",
    "        \n",
    "class StateTransitionGraph:\n",
    "    def __init__(self, epilson=0.1):\n",
    "        self.nodes = []\n",
    "        self.edges = []\n",
    "        \n",
    "    def record(self, state, action, next_state):\n",
    "        "
   ]
  },
  {
   "cell_type": "code",
   "execution_count": null,
   "id": "2f234a81",
   "metadata": {},
   "outputs": [],
   "source": []
  },
  {
   "cell_type": "code",
   "execution_count": null,
   "id": "d91d9a3b",
   "metadata": {},
   "outputs": [],
   "source": []
  }
 ],
 "metadata": {
  "kernelspec": {
   "display_name": "Python 3 (ipykernel)",
   "language": "python",
   "name": "python3"
  },
  "language_info": {
   "codemirror_mode": {
    "name": "ipython",
    "version": 3
   },
   "file_extension": ".py",
   "mimetype": "text/x-python",
   "name": "python",
   "nbconvert_exporter": "python",
   "pygments_lexer": "ipython3",
   "version": "3.10.9"
  },
  "toc": {
   "base_numbering": 1,
   "nav_menu": {},
   "number_sections": true,
   "sideBar": true,
   "skip_h1_title": false,
   "title_cell": "Table of Contents",
   "title_sidebar": "Contents",
   "toc_cell": true,
   "toc_position": {},
   "toc_section_display": true,
   "toc_window_display": false
  }
 },
 "nbformat": 4,
 "nbformat_minor": 5
}
